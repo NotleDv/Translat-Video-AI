{
 "cells": [
  {
   "cell_type": "code",
   "execution_count": 1,
   "id": "de926c05",
   "metadata": {},
   "outputs": [],
   "source": [
    "import torch\n",
    "\n",
    "n_devices = torch.cuda.device_count()\n",
    "\n",
    "device_ = \"cpu\" if not n_devices else \"cuda\""
   ]
  },
  {
   "cell_type": "code",
   "execution_count": 2,
   "id": "7995847e",
   "metadata": {},
   "outputs": [],
   "source": [
    "import wave"
   ]
  },
  {
   "cell_type": "code",
   "execution_count": 3,
   "id": "4093e227",
   "metadata": {},
   "outputs": [],
   "source": [
    "def leitura_wave (path:str, condicional:bool = False) -> str:\n",
    "    # O intuito do parâmetro 'condicional' é apenas para retornar o rate\n",
    "    with wave.open(path, 'rb') as wave_file:\n",
    "        frames = wave_file.getnframes() # q_frames\n",
    "        rate = wave_file.getframerate() # taxa de amostragem\n",
    "        duration = frames / float(rate)    \n",
    "\n",
    "        if condicional:\n",
    "            return duration, rate\n",
    "        \n",
    "        return duration"
   ]
  },
  {
   "cell_type": "code",
   "execution_count": 4,
   "id": "b7f52a5c",
   "metadata": {},
   "outputs": [
    {
     "name": "stdout",
     "output_type": "stream",
     "text": [
      "/home/elton/Projetos/Translater_Video/jupyter/nova_implementação\n"
     ]
    }
   ],
   "source": [
    "import os\n",
    "from pydub import AudioSegment, effects\n",
    "\n",
    "print(os.getcwd())"
   ]
  },
  {
   "cell_type": "code",
   "execution_count": 14,
   "id": "a58f8d9f",
   "metadata": {},
   "outputs": [],
   "source": [
    "a = \"/home/elton/Projetos/Translater_Video/Nova pasta\"\n",
    "b = \"audio_completo.wav\"\n",
    "\n",
    "ab = os.path.join(a,b)\n",
    "abc = os.path.join(a, 'nova_pasta')\n",
    "abcc = os.path.join(a, 'nova_pasta')\n",
    "abcd = os.path.join(a, 'nova_pasta_2')\n",
    "if not os.path.exists(abc): os.mkdir(abc)\n",
    "if not os.path.exists(abc): os.mkdir(abcd)\n",
    "if not os.path.exists(abcd): os.mkdir(abcd)"
   ]
  },
  {
   "cell_type": "code",
   "execution_count": 11,
   "id": "54cba68a",
   "metadata": {},
   "outputs": [
    {
     "data": {
      "text/plain": [
       "'/home/elton/Projetos/Translater_Video/Nova pasta/nova_pasta'"
      ]
     },
     "execution_count": 11,
     "metadata": {},
     "output_type": "execute_result"
    }
   ],
   "source": [
    "abc"
   ]
  },
  {
   "cell_type": "code",
   "execution_count": 5,
   "id": "ddc89c4f",
   "metadata": {},
   "outputs": [
    {
     "name": "stderr",
     "output_type": "stream",
     "text": [
      "2025-09-02 11:28:46.338719: I tensorflow/tsl/cuda/cudart_stub.cc:28] Could not find cuda drivers on your machine, GPU will not be used.\n",
      "2025-09-02 11:28:46.629951: I tensorflow/core/platform/cpu_feature_guard.cc:182] This TensorFlow binary is optimized to use available CPU instructions in performance-critical operations.\n",
      "To enable the following instructions: AVX2 FMA, in other operations, rebuild TensorFlow with the appropriate compiler flags.\n",
      "2025-09-02 11:28:47.743219: W tensorflow/compiler/tf2tensorrt/utils/py_utils.cc:38] TF-TRT Warning: Could not find TensorRT\n"
     ]
    }
   ],
   "source": [
    "from spleeter.separator import Separator\n",
    "import soundfile as sf\n",
    "    \n",
    "separator = Separator('spleeter:2stems')"
   ]
  },
  {
   "cell_type": "code",
   "execution_count": 34,
   "id": "1cb2b908",
   "metadata": {},
   "outputs": [
    {
     "name": "stdout",
     "output_type": "stream",
     "text": [
      "start: 0 | end: 120\n",
      "start: 120 | end: 240\n",
      "start: 240 | end: 360\n",
      "start: 360 | end: 480\n",
      "start: 480 | end: 600\n",
      "start: 600 | end: 720\n",
      "start: 720 | end: 840\n",
      "start: 840 | end: 960\n",
      "start: 960 | end: 1080\n",
      "start: 1080 | end: 1200\n",
      "start: 1200 | end: 1320\n",
      "start: 1320 | end: 1440\n",
      ">> start: 1440 | end: 1496.2706575963718\n"
     ]
    }
   ],
   "source": [
    "new_audios_accompaniment = []\n",
    "def split_audio(path):\n",
    "    duracao = leitura_wave(path)\n",
    "    contador = 0\n",
    "    duracao_t = 0\n",
    "    start = 0\n",
    "    end = 120\n",
    "    \n",
    "    def corte (path_in, path_out, start, end, count):\n",
    "        audio = AudioSegment.from_file(path_in)\n",
    "        corte = audio[ start*1000 : end*1000 ]\n",
    "        \n",
    "        new_audio = os.path.join(path_out, f'audio_{count}.wav')\n",
    "        corte.export(new_audio, format='wav')\n",
    "        new_audios_accompaniment.append({\n",
    "            \"name\": f'audio_{count}',\n",
    "            'path': new_audio\n",
    "        })\n",
    "        return \n",
    "    \n",
    "    if duracao > 120 and (duracao-120) > 1:\n",
    "        while(True):\n",
    "            #corte(ab, abc, start, end, contador)    \n",
    "            if contador == 0:\n",
    "                start = 0\n",
    "                end = 120\n",
    "                corte(path, abc, start, end, contador)\n",
    "                print(f'start: {start} | end: {end}')\n",
    "            elif (duracao-end) > 120:\n",
    "                start = end\n",
    "                end+= 120\n",
    "                corte(path, abc, start, end, contador)\n",
    "                print(f'start: {start} | end: {end}')\n",
    "            else:\n",
    "                start = end\n",
    "                end = (duracao)\n",
    "                corte(path, abc, start, end, contador)\n",
    "                print(f'>> start: {start} | end: {end}')\n",
    "                break\n",
    "            contador+=1\n",
    "    else:\n",
    "        print(duracao)\n",
    "            \n",
    "            \n",
    "            \n",
    "        \n",
    "split_audio(ab)"
   ]
  },
  {
   "cell_type": "code",
   "execution_count": 21,
   "id": "2cce74fd",
   "metadata": {},
   "outputs": [
    {
     "data": {
      "text/plain": [
       "[{'name': 'audio_0',\n",
       "  'path': '/home/elton/Projetos/Translater_Video/Nova pasta/nova_pasta/audio_0.wav'},\n",
       " {'name': 'audio_1',\n",
       "  'path': '/home/elton/Projetos/Translater_Video/Nova pasta/nova_pasta/audio_1.wav'},\n",
       " {'name': 'audio_2',\n",
       "  'path': '/home/elton/Projetos/Translater_Video/Nova pasta/nova_pasta/audio_2.wav'},\n",
       " {'name': 'audio_3',\n",
       "  'path': '/home/elton/Projetos/Translater_Video/Nova pasta/nova_pasta/audio_3.wav'},\n",
       " {'name': 'audio_4',\n",
       "  'path': '/home/elton/Projetos/Translater_Video/Nova pasta/nova_pasta/audio_4.wav'},\n",
       " {'name': 'audio_5',\n",
       "  'path': '/home/elton/Projetos/Translater_Video/Nova pasta/nova_pasta/audio_5.wav'},\n",
       " {'name': 'audio_6',\n",
       "  'path': '/home/elton/Projetos/Translater_Video/Nova pasta/nova_pasta/audio_6.wav'},\n",
       " {'name': 'audio_7',\n",
       "  'path': '/home/elton/Projetos/Translater_Video/Nova pasta/nova_pasta/audio_7.wav'},\n",
       " {'name': 'audio_8',\n",
       "  'path': '/home/elton/Projetos/Translater_Video/Nova pasta/nova_pasta/audio_8.wav'},\n",
       " {'name': 'audio_9',\n",
       "  'path': '/home/elton/Projetos/Translater_Video/Nova pasta/nova_pasta/audio_9.wav'},\n",
       " {'name': 'audio_10',\n",
       "  'path': '/home/elton/Projetos/Translater_Video/Nova pasta/nova_pasta/audio_10.wav'},\n",
       " {'name': 'audio_11',\n",
       "  'path': '/home/elton/Projetos/Translater_Video/Nova pasta/nova_pasta/audio_11.wav'},\n",
       " {'name': 'audio_12',\n",
       "  'path': '/home/elton/Projetos/Translater_Video/Nova pasta/nova_pasta/audio_12.wav'}]"
      ]
     },
     "execution_count": 21,
     "metadata": {},
     "output_type": "execute_result"
    }
   ],
   "source": [
    "new_audios_accompaniment"
   ]
  },
  {
   "cell_type": "code",
   "execution_count": 35,
   "id": "a8c08263",
   "metadata": {},
   "outputs": [
    {
     "data": {
      "text/plain": [
       "{'name': 'audio_0',\n",
       " 'path': '/home/elton/Projetos/Translater_Video/Nova pasta/nova_pasta/audio_0.wav'}"
      ]
     },
     "execution_count": 35,
     "metadata": {},
     "output_type": "execute_result"
    }
   ],
   "source": [
    "new_audios_accompaniment[0]"
   ]
  },
  {
   "cell_type": "code",
   "execution_count": 42,
   "id": "7a1ee72b",
   "metadata": {},
   "outputs": [
    {
     "name": "stdout",
     "output_type": "stream",
     "text": [
      "INFO:tensorflow:Using config: {'_model_dir': 'pretrained_models/2stems', '_tf_random_seed': None, '_save_summary_steps': 100, '_save_checkpoints_steps': None, '_save_checkpoints_secs': 600, '_session_config': gpu_options {\n",
      "  per_process_gpu_memory_fraction: 0.7\n",
      "}\n",
      ", '_keep_checkpoint_max': 5, '_keep_checkpoint_every_n_hours': 10000, '_log_step_count_steps': 100, '_train_distribute': None, '_device_fn': None, '_protocol': None, '_eval_distribute': None, '_experimental_distribute': None, '_experimental_max_worker_delay_secs': None, '_session_creation_timeout_secs': 7200, '_checkpoint_save_graph_def': True, '_service': None, '_cluster_spec': ClusterSpec({}), '_task_type': 'worker', '_task_id': 0, '_global_id_in_cluster': 0, '_master': '', '_evaluation_master': '', '_is_chief': True, '_num_ps_replicas': 0, '_num_worker_replicas': 1}\n",
      "INFO:tensorflow:Calling model_fn.\n",
      "INFO:tensorflow:Apply unet for vocals_spectrogram\n",
      "INFO:tensorflow:Apply unet for accompaniment_spectrogram\n",
      "INFO:tensorflow:Done calling model_fn.\n",
      "INFO:tensorflow:Graph was finalized.\n",
      "INFO:tensorflow:Restoring parameters from pretrained_models/2stems/model\n"
     ]
    },
    {
     "name": "stderr",
     "output_type": "stream",
     "text": [
      "2025-09-02 18:02:26.276393: I tensorflow/compiler/xla/stream_executor/cuda/cuda_gpu_executor.cc:982] could not open file to read NUMA node: /sys/bus/pci/devices/0000:01:00.0/numa_node\n",
      "Your kernel may have been built without NUMA support.\n",
      "2025-09-02 18:02:26.276805: I tensorflow/compiler/xla/stream_executor/cuda/cuda_gpu_executor.cc:982] could not open file to read NUMA node: /sys/bus/pci/devices/0000:04:00.0/numa_node\n",
      "Your kernel may have been built without NUMA support.\n",
      "2025-09-02 18:02:26.276830: W tensorflow/core/common_runtime/gpu/gpu_device.cc:1956] Cannot dlopen some GPU libraries. Please make sure the missing libraries mentioned above are installed properly if you would like to use GPU. Follow the guide at https://www.tensorflow.org/install/gpu for how to download and setup the required libraries for your platform.\n",
      "Skipping registering GPU devices...\n"
     ]
    },
    {
     "name": "stdout",
     "output_type": "stream",
     "text": [
      "INFO:tensorflow:Running local_init_op.\n",
      "INFO:tensorflow:Done running local_init_op.\n"
     ]
    },
    {
     "name": "stderr",
     "output_type": "stream",
     "text": [
      "2025-09-02 18:02:27.896248: I tensorflow/core/common_runtime/executor.cc:1197] [/device:CPU:0] (DEBUG INFO) Executor start aborting (this does not indicate an error and you can ignore this message): INVALID_ARGUMENT: You must feed a value for placeholder tensor 'Placeholder/_1' with dtype float and shape [5292000,2]\n",
      "\t [[{{node Placeholder/_1}}]]\n"
     ]
    },
    {
     "name": "stdout",
     "output_type": "stream",
     "text": [
      "INFO:spleeter:File /home/elton/Projetos/Translater_Video/Nova pasta/nova_pasta_2/audio_0/vocals.wav written succesfully\n",
      "INFO:spleeter:File /home/elton/Projetos/Translater_Video/Nova pasta/nova_pasta_2/audio_0/accompaniment.wav written succesfully\n",
      "INFO:tensorflow:Calling model_fn.\n",
      "INFO:tensorflow:Apply unet for vocals_spectrogram\n",
      "INFO:tensorflow:Apply unet for accompaniment_spectrogram\n",
      "INFO:tensorflow:Done calling model_fn.\n",
      "INFO:tensorflow:Graph was finalized.\n",
      "INFO:tensorflow:Restoring parameters from pretrained_models/2stems/model\n"
     ]
    },
    {
     "name": "stderr",
     "output_type": "stream",
     "text": [
      "2025-09-02 18:02:37.258940: I tensorflow/compiler/xla/stream_executor/cuda/cuda_gpu_executor.cc:982] could not open file to read NUMA node: /sys/bus/pci/devices/0000:01:00.0/numa_node\n",
      "Your kernel may have been built without NUMA support.\n",
      "2025-09-02 18:02:37.259012: I tensorflow/compiler/xla/stream_executor/cuda/cuda_gpu_executor.cc:982] could not open file to read NUMA node: /sys/bus/pci/devices/0000:04:00.0/numa_node\n",
      "Your kernel may have been built without NUMA support.\n",
      "2025-09-02 18:02:37.259025: W tensorflow/core/common_runtime/gpu/gpu_device.cc:1956] Cannot dlopen some GPU libraries. Please make sure the missing libraries mentioned above are installed properly if you would like to use GPU. Follow the guide at https://www.tensorflow.org/install/gpu for how to download and setup the required libraries for your platform.\n",
      "Skipping registering GPU devices...\n"
     ]
    },
    {
     "name": "stdout",
     "output_type": "stream",
     "text": [
      "INFO:tensorflow:Running local_init_op.\n",
      "INFO:tensorflow:Done running local_init_op.\n"
     ]
    },
    {
     "name": "stderr",
     "output_type": "stream",
     "text": [
      "2025-09-02 18:02:38.580542: I tensorflow/core/common_runtime/executor.cc:1197] [/device:CPU:0] (DEBUG INFO) Executor start aborting (this does not indicate an error and you can ignore this message): INVALID_ARGUMENT: You must feed a value for placeholder tensor 'Placeholder/_1' with dtype float and shape [5292000,2]\n",
      "\t [[{{node Placeholder/_1}}]]\n"
     ]
    },
    {
     "name": "stdout",
     "output_type": "stream",
     "text": [
      "INFO:spleeter:File /home/elton/Projetos/Translater_Video/Nova pasta/nova_pasta_2/audio_1/vocals.wav written succesfully\n",
      "INFO:spleeter:File /home/elton/Projetos/Translater_Video/Nova pasta/nova_pasta_2/audio_1/accompaniment.wav written succesfully\n",
      "INFO:tensorflow:Calling model_fn.\n",
      "INFO:tensorflow:Apply unet for vocals_spectrogram\n",
      "INFO:tensorflow:Apply unet for accompaniment_spectrogram\n",
      "INFO:tensorflow:Done calling model_fn.\n",
      "INFO:tensorflow:Graph was finalized.\n",
      "INFO:tensorflow:Restoring parameters from pretrained_models/2stems/model\n"
     ]
    },
    {
     "name": "stderr",
     "output_type": "stream",
     "text": [
      "2025-09-02 18:02:48.541219: I tensorflow/compiler/xla/stream_executor/cuda/cuda_gpu_executor.cc:982] could not open file to read NUMA node: /sys/bus/pci/devices/0000:01:00.0/numa_node\n",
      "Your kernel may have been built without NUMA support.\n",
      "2025-09-02 18:02:48.541351: I tensorflow/compiler/xla/stream_executor/cuda/cuda_gpu_executor.cc:982] could not open file to read NUMA node: /sys/bus/pci/devices/0000:04:00.0/numa_node\n",
      "Your kernel may have been built without NUMA support.\n",
      "2025-09-02 18:02:48.541376: W tensorflow/core/common_runtime/gpu/gpu_device.cc:1956] Cannot dlopen some GPU libraries. Please make sure the missing libraries mentioned above are installed properly if you would like to use GPU. Follow the guide at https://www.tensorflow.org/install/gpu for how to download and setup the required libraries for your platform.\n",
      "Skipping registering GPU devices...\n"
     ]
    },
    {
     "name": "stdout",
     "output_type": "stream",
     "text": [
      "INFO:tensorflow:Running local_init_op.\n",
      "INFO:tensorflow:Done running local_init_op.\n"
     ]
    },
    {
     "name": "stderr",
     "output_type": "stream",
     "text": [
      "2025-09-02 18:02:50.164396: I tensorflow/core/common_runtime/executor.cc:1197] [/device:CPU:0] (DEBUG INFO) Executor start aborting (this does not indicate an error and you can ignore this message): INVALID_ARGUMENT: You must feed a value for placeholder tensor 'Placeholder/_1' with dtype float and shape [5292000,2]\n",
      "\t [[{{node Placeholder/_1}}]]\n"
     ]
    },
    {
     "name": "stdout",
     "output_type": "stream",
     "text": [
      "INFO:spleeter:File /home/elton/Projetos/Translater_Video/Nova pasta/nova_pasta_2/audio_2/vocals.wav written succesfully\n",
      "INFO:spleeter:File /home/elton/Projetos/Translater_Video/Nova pasta/nova_pasta_2/audio_2/accompaniment.wav written succesfully\n",
      "INFO:tensorflow:Calling model_fn.\n",
      "INFO:tensorflow:Apply unet for vocals_spectrogram\n",
      "INFO:tensorflow:Apply unet for accompaniment_spectrogram\n",
      "INFO:tensorflow:Done calling model_fn.\n",
      "INFO:tensorflow:Graph was finalized.\n",
      "INFO:tensorflow:Restoring parameters from pretrained_models/2stems/model\n"
     ]
    },
    {
     "name": "stderr",
     "output_type": "stream",
     "text": [
      "2025-09-02 18:02:59.251343: I tensorflow/compiler/xla/stream_executor/cuda/cuda_gpu_executor.cc:982] could not open file to read NUMA node: /sys/bus/pci/devices/0000:01:00.0/numa_node\n",
      "Your kernel may have been built without NUMA support.\n",
      "2025-09-02 18:02:59.251435: I tensorflow/compiler/xla/stream_executor/cuda/cuda_gpu_executor.cc:982] could not open file to read NUMA node: /sys/bus/pci/devices/0000:04:00.0/numa_node\n",
      "Your kernel may have been built without NUMA support.\n",
      "2025-09-02 18:02:59.251454: W tensorflow/core/common_runtime/gpu/gpu_device.cc:1956] Cannot dlopen some GPU libraries. Please make sure the missing libraries mentioned above are installed properly if you would like to use GPU. Follow the guide at https://www.tensorflow.org/install/gpu for how to download and setup the required libraries for your platform.\n",
      "Skipping registering GPU devices...\n"
     ]
    },
    {
     "name": "stdout",
     "output_type": "stream",
     "text": [
      "INFO:tensorflow:Running local_init_op.\n",
      "INFO:tensorflow:Done running local_init_op.\n"
     ]
    },
    {
     "name": "stderr",
     "output_type": "stream",
     "text": [
      "2025-09-02 18:03:00.478174: I tensorflow/core/common_runtime/executor.cc:1197] [/device:CPU:0] (DEBUG INFO) Executor start aborting (this does not indicate an error and you can ignore this message): INVALID_ARGUMENT: You must feed a value for placeholder tensor 'Placeholder/_1' with dtype float and shape [5292000,2]\n",
      "\t [[{{node Placeholder/_1}}]]\n"
     ]
    },
    {
     "name": "stdout",
     "output_type": "stream",
     "text": [
      "INFO:spleeter:File /home/elton/Projetos/Translater_Video/Nova pasta/nova_pasta_2/audio_3/vocals.wav written succesfully\n",
      "INFO:spleeter:File /home/elton/Projetos/Translater_Video/Nova pasta/nova_pasta_2/audio_3/accompaniment.wav written succesfully\n",
      "INFO:tensorflow:Calling model_fn.\n",
      "INFO:tensorflow:Apply unet for vocals_spectrogram\n",
      "INFO:tensorflow:Apply unet for accompaniment_spectrogram\n",
      "INFO:tensorflow:Done calling model_fn.\n",
      "INFO:tensorflow:Graph was finalized.\n",
      "INFO:tensorflow:Restoring parameters from pretrained_models/2stems/model\n"
     ]
    },
    {
     "name": "stderr",
     "output_type": "stream",
     "text": [
      "2025-09-02 18:03:08.680108: I tensorflow/compiler/xla/stream_executor/cuda/cuda_gpu_executor.cc:982] could not open file to read NUMA node: /sys/bus/pci/devices/0000:01:00.0/numa_node\n",
      "Your kernel may have been built without NUMA support.\n",
      "2025-09-02 18:03:08.680191: I tensorflow/compiler/xla/stream_executor/cuda/cuda_gpu_executor.cc:982] could not open file to read NUMA node: /sys/bus/pci/devices/0000:04:00.0/numa_node\n",
      "Your kernel may have been built without NUMA support.\n",
      "2025-09-02 18:03:08.680206: W tensorflow/core/common_runtime/gpu/gpu_device.cc:1956] Cannot dlopen some GPU libraries. Please make sure the missing libraries mentioned above are installed properly if you would like to use GPU. Follow the guide at https://www.tensorflow.org/install/gpu for how to download and setup the required libraries for your platform.\n",
      "Skipping registering GPU devices...\n"
     ]
    },
    {
     "name": "stdout",
     "output_type": "stream",
     "text": [
      "INFO:tensorflow:Running local_init_op.\n",
      "INFO:tensorflow:Done running local_init_op.\n"
     ]
    },
    {
     "name": "stderr",
     "output_type": "stream",
     "text": [
      "2025-09-02 18:03:09.851725: I tensorflow/core/common_runtime/executor.cc:1197] [/device:CPU:0] (DEBUG INFO) Executor start aborting (this does not indicate an error and you can ignore this message): INVALID_ARGUMENT: You must feed a value for placeholder tensor 'Placeholder/_1' with dtype float and shape [5292000,2]\n",
      "\t [[{{node Placeholder/_1}}]]\n"
     ]
    },
    {
     "name": "stdout",
     "output_type": "stream",
     "text": [
      "INFO:spleeter:File /home/elton/Projetos/Translater_Video/Nova pasta/nova_pasta_2/audio_4/vocals.wav written succesfully\n",
      "INFO:spleeter:File /home/elton/Projetos/Translater_Video/Nova pasta/nova_pasta_2/audio_4/accompaniment.wav written succesfully\n",
      "INFO:tensorflow:Calling model_fn.\n",
      "INFO:tensorflow:Apply unet for vocals_spectrogram\n",
      "INFO:tensorflow:Apply unet for accompaniment_spectrogram\n",
      "INFO:tensorflow:Done calling model_fn.\n",
      "INFO:tensorflow:Graph was finalized.\n",
      "INFO:tensorflow:Restoring parameters from pretrained_models/2stems/model\n"
     ]
    },
    {
     "name": "stderr",
     "output_type": "stream",
     "text": [
      "2025-09-02 18:03:18.352191: I tensorflow/compiler/xla/stream_executor/cuda/cuda_gpu_executor.cc:982] could not open file to read NUMA node: /sys/bus/pci/devices/0000:01:00.0/numa_node\n",
      "Your kernel may have been built without NUMA support.\n",
      "2025-09-02 18:03:18.352347: I tensorflow/compiler/xla/stream_executor/cuda/cuda_gpu_executor.cc:982] could not open file to read NUMA node: /sys/bus/pci/devices/0000:04:00.0/numa_node\n",
      "Your kernel may have been built without NUMA support.\n",
      "2025-09-02 18:03:18.352363: W tensorflow/core/common_runtime/gpu/gpu_device.cc:1956] Cannot dlopen some GPU libraries. Please make sure the missing libraries mentioned above are installed properly if you would like to use GPU. Follow the guide at https://www.tensorflow.org/install/gpu for how to download and setup the required libraries for your platform.\n",
      "Skipping registering GPU devices...\n"
     ]
    },
    {
     "name": "stdout",
     "output_type": "stream",
     "text": [
      "INFO:tensorflow:Running local_init_op.\n",
      "INFO:tensorflow:Done running local_init_op.\n"
     ]
    },
    {
     "name": "stderr",
     "output_type": "stream",
     "text": [
      "2025-09-02 18:03:19.869684: I tensorflow/core/common_runtime/executor.cc:1197] [/device:CPU:0] (DEBUG INFO) Executor start aborting (this does not indicate an error and you can ignore this message): INVALID_ARGUMENT: You must feed a value for placeholder tensor 'Placeholder/_1' with dtype float and shape [5292000,2]\n",
      "\t [[{{node Placeholder/_1}}]]\n"
     ]
    },
    {
     "name": "stdout",
     "output_type": "stream",
     "text": [
      "INFO:spleeter:File /home/elton/Projetos/Translater_Video/Nova pasta/nova_pasta_2/audio_5/vocals.wav written succesfully\n",
      "INFO:spleeter:File /home/elton/Projetos/Translater_Video/Nova pasta/nova_pasta_2/audio_5/accompaniment.wav written succesfully\n",
      "INFO:tensorflow:Calling model_fn.\n",
      "INFO:tensorflow:Apply unet for vocals_spectrogram\n",
      "INFO:tensorflow:Apply unet for accompaniment_spectrogram\n",
      "INFO:tensorflow:Done calling model_fn.\n",
      "INFO:tensorflow:Graph was finalized.\n",
      "INFO:tensorflow:Restoring parameters from pretrained_models/2stems/model\n"
     ]
    },
    {
     "name": "stderr",
     "output_type": "stream",
     "text": [
      "2025-09-02 18:03:35.337418: I tensorflow/compiler/xla/stream_executor/cuda/cuda_gpu_executor.cc:982] could not open file to read NUMA node: /sys/bus/pci/devices/0000:01:00.0/numa_node\n",
      "Your kernel may have been built without NUMA support.\n",
      "2025-09-02 18:03:35.337491: I tensorflow/compiler/xla/stream_executor/cuda/cuda_gpu_executor.cc:982] could not open file to read NUMA node: /sys/bus/pci/devices/0000:04:00.0/numa_node\n",
      "Your kernel may have been built without NUMA support.\n",
      "2025-09-02 18:03:35.337504: W tensorflow/core/common_runtime/gpu/gpu_device.cc:1956] Cannot dlopen some GPU libraries. Please make sure the missing libraries mentioned above are installed properly if you would like to use GPU. Follow the guide at https://www.tensorflow.org/install/gpu for how to download and setup the required libraries for your platform.\n",
      "Skipping registering GPU devices...\n"
     ]
    },
    {
     "name": "stdout",
     "output_type": "stream",
     "text": [
      "INFO:tensorflow:Running local_init_op.\n",
      "INFO:tensorflow:Done running local_init_op.\n"
     ]
    },
    {
     "name": "stderr",
     "output_type": "stream",
     "text": [
      "2025-09-02 18:03:36.428414: I tensorflow/core/common_runtime/executor.cc:1197] [/device:CPU:0] (DEBUG INFO) Executor start aborting (this does not indicate an error and you can ignore this message): INVALID_ARGUMENT: You must feed a value for placeholder tensor 'Placeholder/_1' with dtype float and shape [5292000,2]\n",
      "\t [[{{node Placeholder/_1}}]]\n"
     ]
    },
    {
     "name": "stdout",
     "output_type": "stream",
     "text": [
      "INFO:spleeter:File /home/elton/Projetos/Translater_Video/Nova pasta/nova_pasta_2/audio_6/vocals.wav written succesfully\n",
      "INFO:spleeter:File /home/elton/Projetos/Translater_Video/Nova pasta/nova_pasta_2/audio_6/accompaniment.wav written succesfully\n",
      "INFO:tensorflow:Calling model_fn.\n",
      "INFO:tensorflow:Apply unet for vocals_spectrogram\n",
      "INFO:tensorflow:Apply unet for accompaniment_spectrogram\n",
      "INFO:tensorflow:Done calling model_fn.\n",
      "INFO:tensorflow:Graph was finalized.\n",
      "INFO:tensorflow:Restoring parameters from pretrained_models/2stems/model\n"
     ]
    },
    {
     "name": "stderr",
     "output_type": "stream",
     "text": [
      "2025-09-02 18:03:43.767258: I tensorflow/compiler/xla/stream_executor/cuda/cuda_gpu_executor.cc:982] could not open file to read NUMA node: /sys/bus/pci/devices/0000:01:00.0/numa_node\n",
      "Your kernel may have been built without NUMA support.\n",
      "2025-09-02 18:03:43.767374: I tensorflow/compiler/xla/stream_executor/cuda/cuda_gpu_executor.cc:982] could not open file to read NUMA node: /sys/bus/pci/devices/0000:04:00.0/numa_node\n",
      "Your kernel may have been built without NUMA support.\n",
      "2025-09-02 18:03:43.767391: W tensorflow/core/common_runtime/gpu/gpu_device.cc:1956] Cannot dlopen some GPU libraries. Please make sure the missing libraries mentioned above are installed properly if you would like to use GPU. Follow the guide at https://www.tensorflow.org/install/gpu for how to download and setup the required libraries for your platform.\n",
      "Skipping registering GPU devices...\n"
     ]
    },
    {
     "name": "stdout",
     "output_type": "stream",
     "text": [
      "INFO:tensorflow:Running local_init_op.\n",
      "INFO:tensorflow:Done running local_init_op.\n"
     ]
    },
    {
     "name": "stderr",
     "output_type": "stream",
     "text": [
      "2025-09-02 18:03:44.853693: I tensorflow/core/common_runtime/executor.cc:1197] [/device:CPU:0] (DEBUG INFO) Executor start aborting (this does not indicate an error and you can ignore this message): INVALID_ARGUMENT: You must feed a value for placeholder tensor 'Placeholder/_1' with dtype float and shape [5292000,2]\n",
      "\t [[{{node Placeholder/_1}}]]\n"
     ]
    },
    {
     "name": "stdout",
     "output_type": "stream",
     "text": [
      "INFO:spleeter:File /home/elton/Projetos/Translater_Video/Nova pasta/nova_pasta_2/audio_7/vocals.wav written succesfully\n",
      "INFO:spleeter:File /home/elton/Projetos/Translater_Video/Nova pasta/nova_pasta_2/audio_7/accompaniment.wav written succesfully\n",
      "INFO:tensorflow:Calling model_fn.\n",
      "INFO:tensorflow:Apply unet for vocals_spectrogram\n",
      "INFO:tensorflow:Apply unet for accompaniment_spectrogram\n",
      "INFO:tensorflow:Done calling model_fn.\n",
      "INFO:tensorflow:Graph was finalized.\n",
      "INFO:tensorflow:Restoring parameters from pretrained_models/2stems/model\n"
     ]
    },
    {
     "name": "stderr",
     "output_type": "stream",
     "text": [
      "2025-09-02 18:03:53.341592: I tensorflow/compiler/xla/stream_executor/cuda/cuda_gpu_executor.cc:982] could not open file to read NUMA node: /sys/bus/pci/devices/0000:01:00.0/numa_node\n",
      "Your kernel may have been built without NUMA support.\n",
      "2025-09-02 18:03:53.341705: I tensorflow/compiler/xla/stream_executor/cuda/cuda_gpu_executor.cc:982] could not open file to read NUMA node: /sys/bus/pci/devices/0000:04:00.0/numa_node\n",
      "Your kernel may have been built without NUMA support.\n",
      "2025-09-02 18:03:53.341723: W tensorflow/core/common_runtime/gpu/gpu_device.cc:1956] Cannot dlopen some GPU libraries. Please make sure the missing libraries mentioned above are installed properly if you would like to use GPU. Follow the guide at https://www.tensorflow.org/install/gpu for how to download and setup the required libraries for your platform.\n",
      "Skipping registering GPU devices...\n"
     ]
    },
    {
     "name": "stdout",
     "output_type": "stream",
     "text": [
      "INFO:tensorflow:Running local_init_op.\n",
      "INFO:tensorflow:Done running local_init_op.\n"
     ]
    },
    {
     "name": "stderr",
     "output_type": "stream",
     "text": [
      "2025-09-02 18:03:55.118061: I tensorflow/core/common_runtime/executor.cc:1197] [/device:CPU:0] (DEBUG INFO) Executor start aborting (this does not indicate an error and you can ignore this message): INVALID_ARGUMENT: You must feed a value for placeholder tensor 'Placeholder/_1' with dtype float and shape [5292000,2]\n",
      "\t [[{{node Placeholder/_1}}]]\n"
     ]
    },
    {
     "name": "stdout",
     "output_type": "stream",
     "text": [
      "INFO:spleeter:File /home/elton/Projetos/Translater_Video/Nova pasta/nova_pasta_2/audio_8/vocals.wav written succesfully\n",
      "INFO:spleeter:File /home/elton/Projetos/Translater_Video/Nova pasta/nova_pasta_2/audio_8/accompaniment.wav written succesfully\n",
      "INFO:tensorflow:Calling model_fn.\n",
      "INFO:tensorflow:Apply unet for vocals_spectrogram\n",
      "INFO:tensorflow:Apply unet for accompaniment_spectrogram\n",
      "INFO:tensorflow:Done calling model_fn.\n",
      "INFO:tensorflow:Graph was finalized.\n",
      "INFO:tensorflow:Restoring parameters from pretrained_models/2stems/model\n"
     ]
    },
    {
     "name": "stderr",
     "output_type": "stream",
     "text": [
      "2025-09-02 18:04:04.959642: I tensorflow/compiler/xla/stream_executor/cuda/cuda_gpu_executor.cc:982] could not open file to read NUMA node: /sys/bus/pci/devices/0000:01:00.0/numa_node\n",
      "Your kernel may have been built without NUMA support.\n",
      "2025-09-02 18:04:04.959833: I tensorflow/compiler/xla/stream_executor/cuda/cuda_gpu_executor.cc:982] could not open file to read NUMA node: /sys/bus/pci/devices/0000:04:00.0/numa_node\n",
      "Your kernel may have been built without NUMA support.\n",
      "2025-09-02 18:04:04.959866: W tensorflow/core/common_runtime/gpu/gpu_device.cc:1956] Cannot dlopen some GPU libraries. Please make sure the missing libraries mentioned above are installed properly if you would like to use GPU. Follow the guide at https://www.tensorflow.org/install/gpu for how to download and setup the required libraries for your platform.\n",
      "Skipping registering GPU devices...\n"
     ]
    },
    {
     "name": "stdout",
     "output_type": "stream",
     "text": [
      "INFO:tensorflow:Running local_init_op.\n",
      "INFO:tensorflow:Done running local_init_op.\n"
     ]
    },
    {
     "name": "stderr",
     "output_type": "stream",
     "text": [
      "2025-09-02 18:04:06.403895: I tensorflow/core/common_runtime/executor.cc:1197] [/device:CPU:0] (DEBUG INFO) Executor start aborting (this does not indicate an error and you can ignore this message): INVALID_ARGUMENT: You must feed a value for placeholder tensor 'Placeholder/_1' with dtype float and shape [5292000,2]\n",
      "\t [[{{node Placeholder/_1}}]]\n"
     ]
    },
    {
     "name": "stdout",
     "output_type": "stream",
     "text": [
      "INFO:spleeter:File /home/elton/Projetos/Translater_Video/Nova pasta/nova_pasta_2/audio_9/vocals.wav written succesfully\n",
      "INFO:spleeter:File /home/elton/Projetos/Translater_Video/Nova pasta/nova_pasta_2/audio_9/accompaniment.wav written succesfully\n",
      "INFO:tensorflow:Calling model_fn.\n",
      "INFO:tensorflow:Apply unet for vocals_spectrogram\n",
      "INFO:tensorflow:Apply unet for accompaniment_spectrogram\n",
      "INFO:tensorflow:Done calling model_fn.\n",
      "INFO:tensorflow:Graph was finalized.\n",
      "INFO:tensorflow:Restoring parameters from pretrained_models/2stems/model\n"
     ]
    },
    {
     "name": "stderr",
     "output_type": "stream",
     "text": [
      "2025-09-02 18:04:15.946858: I tensorflow/compiler/xla/stream_executor/cuda/cuda_gpu_executor.cc:982] could not open file to read NUMA node: /sys/bus/pci/devices/0000:01:00.0/numa_node\n",
      "Your kernel may have been built without NUMA support.\n",
      "2025-09-02 18:04:15.946946: I tensorflow/compiler/xla/stream_executor/cuda/cuda_gpu_executor.cc:982] could not open file to read NUMA node: /sys/bus/pci/devices/0000:04:00.0/numa_node\n",
      "Your kernel may have been built without NUMA support.\n",
      "2025-09-02 18:04:15.946962: W tensorflow/core/common_runtime/gpu/gpu_device.cc:1956] Cannot dlopen some GPU libraries. Please make sure the missing libraries mentioned above are installed properly if you would like to use GPU. Follow the guide at https://www.tensorflow.org/install/gpu for how to download and setup the required libraries for your platform.\n",
      "Skipping registering GPU devices...\n"
     ]
    },
    {
     "name": "stdout",
     "output_type": "stream",
     "text": [
      "INFO:tensorflow:Running local_init_op.\n",
      "INFO:tensorflow:Done running local_init_op.\n"
     ]
    },
    {
     "name": "stderr",
     "output_type": "stream",
     "text": [
      "2025-09-02 18:04:17.329070: I tensorflow/core/common_runtime/executor.cc:1197] [/device:CPU:0] (DEBUG INFO) Executor start aborting (this does not indicate an error and you can ignore this message): INVALID_ARGUMENT: You must feed a value for placeholder tensor 'Placeholder/_1' with dtype float and shape [5292000,2]\n",
      "\t [[{{node Placeholder/_1}}]]\n"
     ]
    },
    {
     "name": "stdout",
     "output_type": "stream",
     "text": [
      "INFO:spleeter:File /home/elton/Projetos/Translater_Video/Nova pasta/nova_pasta_2/audio_10/vocals.wav written succesfully\n",
      "INFO:spleeter:File /home/elton/Projetos/Translater_Video/Nova pasta/nova_pasta_2/audio_10/accompaniment.wav written succesfully\n",
      "INFO:tensorflow:Calling model_fn.\n",
      "INFO:tensorflow:Apply unet for vocals_spectrogram\n",
      "INFO:tensorflow:Apply unet for accompaniment_spectrogram\n",
      "INFO:tensorflow:Done calling model_fn.\n",
      "INFO:tensorflow:Graph was finalized.\n",
      "INFO:tensorflow:Restoring parameters from pretrained_models/2stems/model\n"
     ]
    },
    {
     "name": "stderr",
     "output_type": "stream",
     "text": [
      "2025-09-02 18:04:32.823814: I tensorflow/compiler/xla/stream_executor/cuda/cuda_gpu_executor.cc:982] could not open file to read NUMA node: /sys/bus/pci/devices/0000:01:00.0/numa_node\n",
      "Your kernel may have been built without NUMA support.\n",
      "2025-09-02 18:04:32.823912: I tensorflow/compiler/xla/stream_executor/cuda/cuda_gpu_executor.cc:982] could not open file to read NUMA node: /sys/bus/pci/devices/0000:04:00.0/numa_node\n",
      "Your kernel may have been built without NUMA support.\n",
      "2025-09-02 18:04:32.823944: W tensorflow/core/common_runtime/gpu/gpu_device.cc:1956] Cannot dlopen some GPU libraries. Please make sure the missing libraries mentioned above are installed properly if you would like to use GPU. Follow the guide at https://www.tensorflow.org/install/gpu for how to download and setup the required libraries for your platform.\n",
      "Skipping registering GPU devices...\n"
     ]
    },
    {
     "name": "stdout",
     "output_type": "stream",
     "text": [
      "INFO:tensorflow:Running local_init_op.\n",
      "INFO:tensorflow:Done running local_init_op.\n"
     ]
    },
    {
     "name": "stderr",
     "output_type": "stream",
     "text": [
      "2025-09-02 18:04:34.263428: I tensorflow/core/common_runtime/executor.cc:1197] [/device:CPU:0] (DEBUG INFO) Executor start aborting (this does not indicate an error and you can ignore this message): INVALID_ARGUMENT: You must feed a value for placeholder tensor 'Placeholder/_1' with dtype float and shape [5292000,2]\n",
      "\t [[{{node Placeholder/_1}}]]\n"
     ]
    },
    {
     "name": "stdout",
     "output_type": "stream",
     "text": [
      "INFO:spleeter:File /home/elton/Projetos/Translater_Video/Nova pasta/nova_pasta_2/audio_11/vocals.wav written succesfully\n",
      "INFO:spleeter:File /home/elton/Projetos/Translater_Video/Nova pasta/nova_pasta_2/audio_11/accompaniment.wav written succesfully\n",
      "INFO:tensorflow:Calling model_fn.\n",
      "INFO:tensorflow:Apply unet for vocals_spectrogram\n",
      "INFO:tensorflow:Apply unet for accompaniment_spectrogram\n",
      "INFO:tensorflow:Done calling model_fn.\n",
      "INFO:tensorflow:Graph was finalized.\n",
      "INFO:tensorflow:Restoring parameters from pretrained_models/2stems/model\n"
     ]
    },
    {
     "name": "stderr",
     "output_type": "stream",
     "text": [
      "2025-09-02 18:04:43.583890: I tensorflow/compiler/xla/stream_executor/cuda/cuda_gpu_executor.cc:982] could not open file to read NUMA node: /sys/bus/pci/devices/0000:01:00.0/numa_node\n",
      "Your kernel may have been built without NUMA support.\n",
      "2025-09-02 18:04:43.584020: I tensorflow/compiler/xla/stream_executor/cuda/cuda_gpu_executor.cc:982] could not open file to read NUMA node: /sys/bus/pci/devices/0000:04:00.0/numa_node\n",
      "Your kernel may have been built without NUMA support.\n",
      "2025-09-02 18:04:43.584042: W tensorflow/core/common_runtime/gpu/gpu_device.cc:1956] Cannot dlopen some GPU libraries. Please make sure the missing libraries mentioned above are installed properly if you would like to use GPU. Follow the guide at https://www.tensorflow.org/install/gpu for how to download and setup the required libraries for your platform.\n",
      "Skipping registering GPU devices...\n"
     ]
    },
    {
     "name": "stdout",
     "output_type": "stream",
     "text": [
      "INFO:tensorflow:Running local_init_op.\n",
      "INFO:tensorflow:Done running local_init_op.\n"
     ]
    },
    {
     "name": "stderr",
     "output_type": "stream",
     "text": [
      "2025-09-02 18:04:44.559312: I tensorflow/core/common_runtime/executor.cc:1197] [/device:CPU:0] (DEBUG INFO) Executor start aborting (this does not indicate an error and you can ignore this message): INVALID_ARGUMENT: You must feed a value for placeholder tensor 'Placeholder/_1' with dtype float and shape [2481536,2]\n",
      "\t [[{{node Placeholder/_1}}]]\n"
     ]
    },
    {
     "name": "stdout",
     "output_type": "stream",
     "text": [
      "INFO:spleeter:File /home/elton/Projetos/Translater_Video/Nova pasta/nova_pasta_2/audio_12/vocals.wav written succesfully\n",
      "INFO:spleeter:File /home/elton/Projetos/Translater_Video/Nova pasta/nova_pasta_2/audio_12/accompaniment.wav written succesfully\n"
     ]
    }
   ],
   "source": [
    "separator = Separator('spleeter:2stems')\n",
    "\n",
    "for index, element in enumerate(new_audios_accompaniment):\n",
    "    path_in = element['path']\n",
    "    \n",
    "    prediction = separator.separate_to_file(path_in, abcd)\n",
    "    \n",
    "    path_out = os.path.join(abcd, element['name'], 'accompaniment')\n",
    "    new_audios_accompaniment[index]['path_accompaniment'] = path_out\n",
    "    \n",
    "    os.remove(element['path'])\n",
    "\n",
    "    # os.path.join(path_out, 'audio_completo', 'accompaniment.wav')"
   ]
  },
  {
   "cell_type": "code",
   "execution_count": 43,
   "id": "f1548d7f",
   "metadata": {},
   "outputs": [
    {
     "name": "stdout",
     "output_type": "stream",
     "text": [
      "/home/elton/Projetos/Translater_Video/Nova pasta/nova_pasta_2/audio_0/accompaniment\n",
      "/home/elton/Projetos/Translater_Video/Nova pasta/nova_pasta_2/audio_1/accompaniment\n",
      "/home/elton/Projetos/Translater_Video/Nova pasta/nova_pasta_2/audio_2/accompaniment\n",
      "/home/elton/Projetos/Translater_Video/Nova pasta/nova_pasta_2/audio_3/accompaniment\n",
      "/home/elton/Projetos/Translater_Video/Nova pasta/nova_pasta_2/audio_4/accompaniment\n",
      "/home/elton/Projetos/Translater_Video/Nova pasta/nova_pasta_2/audio_5/accompaniment\n",
      "/home/elton/Projetos/Translater_Video/Nova pasta/nova_pasta_2/audio_6/accompaniment\n",
      "/home/elton/Projetos/Translater_Video/Nova pasta/nova_pasta_2/audio_7/accompaniment\n",
      "/home/elton/Projetos/Translater_Video/Nova pasta/nova_pasta_2/audio_8/accompaniment\n",
      "/home/elton/Projetos/Translater_Video/Nova pasta/nova_pasta_2/audio_9/accompaniment\n",
      "/home/elton/Projetos/Translater_Video/Nova pasta/nova_pasta_2/audio_10/accompaniment\n",
      "/home/elton/Projetos/Translater_Video/Nova pasta/nova_pasta_2/audio_11/accompaniment\n",
      "/home/elton/Projetos/Translater_Video/Nova pasta/nova_pasta_2/audio_12/accompaniment\n"
     ]
    }
   ],
   "source": [
    "for index, element in enumerate(new_audios_accompaniment):\n",
    "    path_in = element['path_accompaniment']\n",
    "    print(path_in)\n",
    "    \n",
    "    \n",
    "    \n",
    "    "
   ]
  }
 ],
 "metadata": {
  "kernelspec": {
   "display_name": "Lab_Translat_Video",
   "language": "python",
   "name": "lab_translat_video"
  },
  "language_info": {
   "codemirror_mode": {
    "name": "ipython",
    "version": 3
   },
   "file_extension": ".py",
   "mimetype": "text/x-python",
   "name": "python",
   "nbconvert_exporter": "python",
   "pygments_lexer": "ipython3",
   "version": "3.10.17"
  }
 },
 "nbformat": 4,
 "nbformat_minor": 5
}
