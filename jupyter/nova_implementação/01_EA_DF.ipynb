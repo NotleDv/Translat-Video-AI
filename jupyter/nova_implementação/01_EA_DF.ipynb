{
 "cells": [
  {
   "cell_type": "markdown",
   "id": "9094204a",
   "metadata": {},
   "source": [
    "### 🛠️ Configuração de device"
   ]
  },
  {
   "cell_type": "code",
   "execution_count": 2,
   "id": "37f43656",
   "metadata": {},
   "outputs": [],
   "source": [
    "import torch\n",
    "\n",
    "n_devices = torch.cuda.device_count()\n",
    "\n",
    "device_ = \"cpu\" if not n_devices else \"cuda\""
   ]
  },
  {
   "cell_type": "markdown",
   "id": "2a2a82a0",
   "metadata": {},
   "source": [
    "### 🔊 Extração do áudio"
   ]
  },
  {
   "cell_type": "code",
   "execution_count": 3,
   "id": "8765989c",
   "metadata": {},
   "outputs": [],
   "source": [
    "import ffmpeg, imageio_ffmpeg\n",
    "import os"
   ]
  },
  {
   "cell_type": "code",
   "execution_count": 4,
   "id": "cdc64118",
   "metadata": {},
   "outputs": [],
   "source": [
    "path_video = \"/home/elton/Projetos/Translater_Video/teste\"\n",
    "name_video = \"1 - Preparations.mp4\"\n",
    "\n",
    "name_audio_out = \"audio_completo.wav\"\n",
    "path_out = \"/home/elton/Projetos/Translater_Video/teste/resultado_teste\""
   ]
  },
  {
   "cell_type": "code",
   "execution_count": 5,
   "id": "c563a3eb",
   "metadata": {},
   "outputs": [],
   "source": [
    "def extrair_audio(path_in, path_out, name_video, name_video_out):\n",
    "    input_ = os.path.join(path_in, name_video)\n",
    "    output_ = os.path.join(path_out, name_video_out)\n",
    "    path_ffmpeg = imageio_ffmpeg.get_ffmpeg_exe()\n",
    "\n",
    "    # --- Extração de áudio  ---\n",
    "    #ss -> Inicio, to -> Fim, ac -> mono, ar -> sample_rate, sample_fmt -> bit\n",
    "    try:\n",
    "        (\n",
    "            ffmpeg\n",
    "            .input(input_)\n",
    "            .output(output_, vn=None,)\n",
    "            .run(cmd=path_ffmpeg, overwrite_output=True, quiet=True)\n",
    "        )\n",
    "        print(f'Extração de áudio concluída: {output_}')\n",
    "    except ffmpeg.Error as erro:\n",
    "        print(erro)"
   ]
  },
  {
   "cell_type": "code",
   "execution_count": 6,
   "id": "2b6fc444",
   "metadata": {},
   "outputs": [
    {
     "name": "stdout",
     "output_type": "stream",
     "text": [
      "Extração de áudio concluída: /home/elton/Projetos/Translater_Video/teste/resultado_teste/audio_completo.wav\n"
     ]
    }
   ],
   "source": [
    "extrair_audio(path_video, path_out, name_video, name_audio_out)"
   ]
  },
  {
   "cell_type": "markdown",
   "id": "ade845ed",
   "metadata": {},
   "source": [
    "### 🎤 Detecção de fala"
   ]
  },
  {
   "cell_type": "code",
   "execution_count": 7,
   "id": "d337293a",
   "metadata": {},
   "outputs": [
    {
     "name": "stderr",
     "output_type": "stream",
     "text": [
      "/home/elton/Projetos/Translater_Video/.venv/lib/python3.10/site-packages/tqdm/auto.py:21: TqdmWarning: IProgress not found. Please update jupyter and ipywidgets. See https://ipywidgets.readthedocs.io/en/stable/user_install.html\n",
      "  from .autonotebook import tqdm as notebook_tqdm\n",
      "/home/elton/Projetos/Translater_Video/.venv/lib/python3.10/site-packages/pyannote/audio/core/io.py:212: UserWarning: torchaudio._backend.list_audio_backends has been deprecated. This deprecation is part of a large refactoring effort to transition TorchAudio into a maintenance phase. The decoding and encoding capabilities of PyTorch for both audio and video are being consolidated into TorchCodec. Please see https://github.com/pytorch/audio/issues/3902 for more information. It will be removed from the 2.9 release. \n",
      "  torchaudio.list_audio_backends()\n"
     ]
    }
   ],
   "source": [
    "from pyannote.audio import Pipeline\n",
    "import math\n",
    "import json"
   ]
  },
  {
   "cell_type": "code",
   "execution_count": 8,
   "id": "6b62cd4d",
   "metadata": {},
   "outputs": [
    {
     "name": "stderr",
     "output_type": "stream",
     "text": [
      "/home/elton/Projetos/Translater_Video/.venv/lib/python3.10/site-packages/speechbrain/utils/torch_audio_backend.py:57: UserWarning: torchaudio._backend.list_audio_backends has been deprecated. This deprecation is part of a large refactoring effort to transition TorchAudio into a maintenance phase. The decoding and encoding capabilities of PyTorch for both audio and video are being consolidated into TorchCodec. Please see https://github.com/pytorch/audio/issues/3902 for more information. It will be removed from the 2.9 release. \n",
      "  available_backends = torchaudio.list_audio_backends()\n"
     ]
    },
    {
     "data": {
      "text/plain": [
       "<pyannote.audio.pipelines.speaker_diarization.SpeakerDiarization at 0x7fcdd482ba90>"
      ]
     },
     "execution_count": 8,
     "metadata": {},
     "output_type": "execute_result"
    }
   ],
   "source": [
    "# Carregando o modelo\n",
    "model = Pipeline.from_pretrained(\n",
    "    \"pyannote/speaker-diarization-3.1\",\n",
    "    use_auth_token=token)\n",
    "\n",
    "model.to(torch.device(device_))"
   ]
  },
  {
   "cell_type": "code",
   "execution_count": null,
   "id": "6a3f85a5",
   "metadata": {},
   "outputs": [],
   "source": [
    "# Função para usar o modelo de detecção de áudio\n",
    "def timer_speaks(path, model):\n",
    "    result = model(path)\n",
    "    return result"
   ]
  },
  {
   "cell_type": "code",
   "execution_count": 10,
   "id": "ec5b66c0",
   "metadata": {},
   "outputs": [
    {
     "ename": "AttributeError",
     "evalue": "'SpeakerDiarization' object has no attribute 'stream'",
     "output_type": "error",
     "traceback": [
      "\u001b[0;31m---------------------------------------------------------------------------\u001b[0m",
      "\u001b[0;31mAttributeError\u001b[0m                            Traceback (most recent call last)",
      "Cell \u001b[0;32mIn[10], line 2\u001b[0m\n\u001b[1;32m      1\u001b[0m path_audio_for_timer_speaks \u001b[38;5;241m=\u001b[39m os\u001b[38;5;241m.\u001b[39mpath\u001b[38;5;241m.\u001b[39mjoin(path_out, name_audio_out)\n\u001b[0;32m----> 2\u001b[0m result_timer_speaks \u001b[38;5;241m=\u001b[39m \u001b[43mtimer_speaks\u001b[49m\u001b[43m(\u001b[49m\u001b[43mpath_audio_for_timer_speaks\u001b[49m\u001b[43m,\u001b[49m\u001b[43m \u001b[49m\u001b[43mmodel\u001b[49m\u001b[43m)\u001b[49m\n",
      "Cell \u001b[0;32mIn[9], line 3\u001b[0m, in \u001b[0;36mtimer_speaks\u001b[0;34m(path, model)\u001b[0m\n\u001b[1;32m      2\u001b[0m \u001b[38;5;28;01mdef\u001b[39;00m\u001b[38;5;250m \u001b[39m\u001b[38;5;21mtimer_speaks\u001b[39m(path, model):\n\u001b[0;32m----> 3\u001b[0m     \u001b[38;5;28;01mfor\u001b[39;00m chunck \u001b[38;5;129;01min\u001b[39;00m \u001b[43mmodel\u001b[49m\u001b[38;5;241;43m.\u001b[39;49m\u001b[43mstream\u001b[49m(path):\n\u001b[1;32m      4\u001b[0m         \u001b[38;5;28mprint\u001b[39m(chunck)\n",
      "File \u001b[0;32m~/Projetos/Translater_Video/.venv/lib/python3.10/site-packages/pyannote/audio/core/pipeline.py:215\u001b[0m, in \u001b[0;36mPipeline.__getattr__\u001b[0;34m(self, name)\u001b[0m\n\u001b[1;32m    212\u001b[0m     \u001b[38;5;28;01mif\u001b[39;00m name \u001b[38;5;129;01min\u001b[39;00m _inferences:\n\u001b[1;32m    213\u001b[0m         \u001b[38;5;28;01mreturn\u001b[39;00m _inferences[name]\n\u001b[0;32m--> 215\u001b[0m \u001b[38;5;28;01mreturn\u001b[39;00m \u001b[38;5;28;43msuper\u001b[39;49m\u001b[43m(\u001b[49m\u001b[43m)\u001b[49m\u001b[38;5;241;43m.\u001b[39;49m\u001b[38;5;21;43m__getattr__\u001b[39;49m\u001b[43m(\u001b[49m\u001b[43mname\u001b[49m\u001b[43m)\u001b[49m\n",
      "File \u001b[0;32m~/Projetos/Translater_Video/.venv/lib/python3.10/site-packages/pyannote/pipeline/pipeline.py:100\u001b[0m, in \u001b[0;36mPipeline.__getattr__\u001b[0;34m(self, name)\u001b[0m\n\u001b[1;32m     97\u001b[0m         \u001b[38;5;28;01mreturn\u001b[39;00m _pipelines[name]\n\u001b[1;32m     99\u001b[0m msg \u001b[38;5;241m=\u001b[39m \u001b[38;5;124m\"\u001b[39m\u001b[38;5;124m'\u001b[39m\u001b[38;5;132;01m{}\u001b[39;00m\u001b[38;5;124m'\u001b[39m\u001b[38;5;124m object has no attribute \u001b[39m\u001b[38;5;124m'\u001b[39m\u001b[38;5;132;01m{}\u001b[39;00m\u001b[38;5;124m'\u001b[39m\u001b[38;5;124m\"\u001b[39m\u001b[38;5;241m.\u001b[39mformat(\u001b[38;5;28mtype\u001b[39m(\u001b[38;5;28mself\u001b[39m)\u001b[38;5;241m.\u001b[39m\u001b[38;5;18m__name__\u001b[39m, name)\n\u001b[0;32m--> 100\u001b[0m \u001b[38;5;28;01mraise\u001b[39;00m \u001b[38;5;167;01mAttributeError\u001b[39;00m(msg)\n",
      "\u001b[0;31mAttributeError\u001b[0m: 'SpeakerDiarization' object has no attribute 'stream'"
     ]
    }
   ],
   "source": [
    "path_audio_for_timer_speaks = os.path.join(path_out, name_audio_out)\n",
    "result_timer_speaks = timer_speaks(path_audio_for_timer_speaks, model)"
   ]
  },
  {
   "cell_type": "code",
   "execution_count": null,
   "id": "e3267708",
   "metadata": {},
   "outputs": [],
   "source": [
    "list_time_speaker = []\n",
    "# Parametros do laço foram retirados da documentação do modelo, apenas fiz adaptações\n",
    "for speaker, _, id_speaker in result_timer_speaks.itertracks(yield_label=True):\n",
    "    list_time_speaker.append({\n",
    "        'start': round(speaker.start, 2),\n",
    "        'end': round(speaker.end, 2) \n",
    "    })"
   ]
  },
  {
   "cell_type": "code",
   "execution_count": null,
   "id": "d8c83a46",
   "metadata": {},
   "outputs": [],
   "source": [
    "list_time_speaker_reduzido = []\n",
    "i = 0\n",
    "\n",
    "while i < len(list_time_speaker):\n",
    "    start = list_time_speaker[i]['start']\n",
    "    end = list_time_speaker[i]['end']\n",
    "    a = i\n",
    "\n",
    "    while a + 1 < len(list_time_speaker) and math.isclose(end, list_time_speaker[a+1]['start'], abs_tol=1.0):\n",
    "        end = list_time_speaker[a+1]['end']  # atualiza o fim\n",
    "        a += 1  # avança para o próximo\n",
    "\n",
    "    # Adiciona o intervalo unido\n",
    "    list_time_speaker_reduzido.append({'start':start, 'end': end})\n",
    "    i = a + 1  # pula para o próximo intervalo que não foi unido"
   ]
  },
  {
   "cell_type": "code",
   "execution_count": 23,
   "id": "1222043c",
   "metadata": {},
   "outputs": [
    {
     "name": "stdout",
     "output_type": "stream",
     "text": [
      "15 | [{'start': 6.92, 'end': 27.96}, {'start': 28.52, 'end': 29.87}, {'start': 30.9, 'end': 34.52}, {'start': 35.57, 'end': 54.94}, {'start': 50.39, 'end': 50.71}, {'start': 55.79, 'end': 73.79}, {'start': 75.16, 'end': 85.89}, {'start': 88.59, 'end': 106.28}, {'start': 108.86, 'end': 110.95}, {'start': 113.09, 'end': 125.56}, {'start': 127.42, 'end': 138.68}, {'start': 139.44, 'end': 145.85}, {'start': 147.03, 'end': 159.74}, {'start': 162.1, 'end': 165.61}, {'start': 168.97, 'end': 191.6}]\n",
      "13 | [{'start': 6.92, 'end': 29.87}, {'start': 30.9, 'end': 34.52}, {'start': 35.57, 'end': 54.94}, {'start': 50.39, 'end': 50.71}, {'start': 55.79, 'end': 73.79}, {'start': 75.16, 'end': 85.89}, {'start': 88.59, 'end': 106.28}, {'start': 108.86, 'end': 110.95}, {'start': 113.09, 'end': 125.56}, {'start': 127.42, 'end': 145.85}, {'start': 147.03, 'end': 159.74}, {'start': 162.1, 'end': 165.61}, {'start': 168.97, 'end': 191.6}]\n"
     ]
    }
   ],
   "source": [
    "print(f'{len(list_time_speaker)} | {list_time_speaker}')\n",
    "print(f'{len(list_time_speaker_reduzido)} | {list_time_speaker_reduzido}')"
   ]
  },
  {
   "cell_type": "code",
   "execution_count": null,
   "id": "70027285",
   "metadata": {},
   "outputs": [],
   "source": [
    "# Salvando o log\n",
    "path_log = os.path.join(path_out, 'log', 'log.json')\n",
    "\n",
    "with open(path_log, 'w', encoding='utf-8') as file:\n",
    "    file.write(json.dumps(list_time_speaker_reduzido, ensure_ascii=False, indent=2))"
   ]
  },
  {
   "cell_type": "markdown",
   "id": "5349a2b3",
   "metadata": {},
   "source": [
    "### 🎼 Extrair audios\n",
    "\n",
    "- Levando em consideração os tempos de áudio"
   ]
  },
  {
   "cell_type": "code",
   "execution_count": 24,
   "id": "a99e2538",
   "metadata": {},
   "outputs": [],
   "source": [
    "def extrair_audio_f(path_in, path_out, name_audio, name_audio_out:str, list_times):\n",
    "    input_ = os.path.join(path_in, name_audio)\n",
    "    path_ffmpeg = imageio_ffmpeg.get_ffmpeg_exe()\n",
    "\n",
    "    # --- Extração de áudio  ---\n",
    "    for index, i in enumerate(list_times):\n",
    "        \n",
    "        output_ = os.path.join(path_out, f'{index}.wav')\n",
    "        try:\n",
    "            (\n",
    "                ffmpeg\n",
    "                .input(input_, ss=i['start'], to=i['end'])\n",
    "                .output(output_)\n",
    "                .run(cmd=path_ffmpeg, overwrite_output=True, quiet=True)\n",
    "            )\n",
    "            print(f'Extração de áudio concluída: {output_}')\n",
    "            \n",
    "            list_time_speaker_reduzido[index]['path_audio'] = output_\n",
    "            \n",
    "        except:\n",
    "            print('Erro no ffmpeg')\n",
    "    #ss -> Inicio, to -> Fim, ac -> mono, ar -> sample_rate, sample_fmt -> bit\n",
    "     "
   ]
  },
  {
   "cell_type": "code",
   "execution_count": 25,
   "id": "76656341",
   "metadata": {},
   "outputs": [],
   "source": [
    "path_out  = os.path.join(\"/home/elton/Projetos/Translater_Video/teste/resultado_teste\", 'audios','separados_01')\n",
    "path_in = \"/home/elton/Projetos/Translater_Video/teste/resultado_teste\""
   ]
  },
  {
   "cell_type": "code",
   "execution_count": 26,
   "id": "56c4b5ab",
   "metadata": {},
   "outputs": [
    {
     "name": "stdout",
     "output_type": "stream",
     "text": [
      "Extração de áudio concluída: /home/elton/Projetos/Translater_Video/teste/resultado_teste/audios/separados_01/0.wav\n",
      "Extração de áudio concluída: /home/elton/Projetos/Translater_Video/teste/resultado_teste/audios/separados_01/1.wav\n",
      "Extração de áudio concluída: /home/elton/Projetos/Translater_Video/teste/resultado_teste/audios/separados_01/2.wav\n",
      "Extração de áudio concluída: /home/elton/Projetos/Translater_Video/teste/resultado_teste/audios/separados_01/3.wav\n",
      "Extração de áudio concluída: /home/elton/Projetos/Translater_Video/teste/resultado_teste/audios/separados_01/4.wav\n",
      "Extração de áudio concluída: /home/elton/Projetos/Translater_Video/teste/resultado_teste/audios/separados_01/5.wav\n",
      "Extração de áudio concluída: /home/elton/Projetos/Translater_Video/teste/resultado_teste/audios/separados_01/6.wav\n",
      "Extração de áudio concluída: /home/elton/Projetos/Translater_Video/teste/resultado_teste/audios/separados_01/7.wav\n",
      "Extração de áudio concluída: /home/elton/Projetos/Translater_Video/teste/resultado_teste/audios/separados_01/8.wav\n",
      "Extração de áudio concluída: /home/elton/Projetos/Translater_Video/teste/resultado_teste/audios/separados_01/9.wav\n",
      "Extração de áudio concluída: /home/elton/Projetos/Translater_Video/teste/resultado_teste/audios/separados_01/10.wav\n",
      "Extração de áudio concluída: /home/elton/Projetos/Translater_Video/teste/resultado_teste/audios/separados_01/11.wav\n",
      "Extração de áudio concluída: /home/elton/Projetos/Translater_Video/teste/resultado_teste/audios/separados_01/12.wav\n"
     ]
    }
   ],
   "source": [
    "extrair_audio_f(path_in, path_out, name_audio_out, 'audios', list_time_speaker_reduzido)"
   ]
  }
 ],
 "metadata": {
  "kernelspec": {
   "display_name": "Kernel_Translater_Video",
   "language": "python",
   "name": "kernel_translater_video"
  },
  "language_info": {
   "codemirror_mode": {
    "name": "ipython",
    "version": 3
   },
   "file_extension": ".py",
   "mimetype": "text/x-python",
   "name": "python",
   "nbconvert_exporter": "python",
   "pygments_lexer": "ipython3",
   "version": "3.10.17"
  }
 },
 "nbformat": 4,
 "nbformat_minor": 5
}
