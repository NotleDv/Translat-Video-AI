{
 "cells": [
  {
   "cell_type": "markdown",
   "id": "b56b3c23",
   "metadata": {},
   "source": [
    "### 🛠️ Configuração de device"
   ]
  },
  {
   "cell_type": "code",
   "execution_count": 1,
   "id": "ecf9293f",
   "metadata": {},
   "outputs": [],
   "source": [
    "import torch\n",
    "\n",
    "n_devices = torch.cuda.device_count()\n",
    "\n",
    "device_ = \"cpu\" if not n_devices else \"cuda\""
   ]
  },
  {
   "cell_type": "markdown",
   "id": "c2ff9b82",
   "metadata": {},
   "source": [
    "### 🗃️ Recuperando o log do notebook 01_EA_DF"
   ]
  },
  {
   "cell_type": "code",
   "execution_count": 2,
   "id": "ed85ac81",
   "metadata": {},
   "outputs": [],
   "source": [
    "import json\n",
    "import os"
   ]
  },
  {
   "cell_type": "code",
   "execution_count": 3,
   "id": "d3be2006",
   "metadata": {},
   "outputs": [],
   "source": [
    "path_video = \"/home/elton/Projetos/Translater_Video/teste\"\n",
    "name_video = \"1 - Preparations.mp4\"\n",
    "\n",
    "name_audio_out = \"audio_completo.wav\"\n",
    "path_out = \"/home/elton/Projetos/Translater_Video/teste/resultado_teste\"\n",
    "path_out_audios = \"/home/elton/Projetos/Translater_Video/teste/resultado_teste/audios/gerados\"\n",
    "path_log = os.path.join(path_out, 'log', 'log.json')"
   ]
  },
  {
   "cell_type": "code",
   "execution_count": 4,
   "id": "d534a8bb",
   "metadata": {},
   "outputs": [],
   "source": [
    "log = ''\n",
    "with open(path_log, 'r', encoding='utf-8') as file:\n",
    "    log = json.load(file)"
   ]
  },
  {
   "cell_type": "markdown",
   "id": "807ccfbf",
   "metadata": {},
   "source": [
    "### Concatenação 01\n",
    "`Concatenação dos áudios que vieram gerados de uma única frase`"
   ]
  },
  {
   "cell_type": "code",
   "execution_count": 6,
   "id": "e0706502",
   "metadata": {},
   "outputs": [],
   "source": [
    "import ffmpeg\n",
    "import imageio_ffmpeg"
   ]
  },
  {
   "cell_type": "code",
   "execution_count": 22,
   "id": "aafd6bf8",
   "metadata": {},
   "outputs": [],
   "source": [
    "def inserte_audio (path_out: str, path_video:str, path_audio:list, name_video_i:str,name_video_f:str):\n",
    "    path_f = os.path.join(path_out, name_video_f)\n",
    "        \n",
    "    video = ffmpeg.input(os.path.join(path_video, name_video_i))\n",
    "    audio = ffmpeg.input(path_audio)\n",
    "    \n",
    "    ffmpeg.output(video.video, audio.audio, path_f, vcodec='copy').run()\n",
    "    \n",
    "    "
   ]
  },
  {
   "cell_type": "code",
   "execution_count": 23,
   "id": "34ef2d03",
   "metadata": {},
   "outputs": [
    {
     "name": "stderr",
     "output_type": "stream",
     "text": [
      "ffmpeg version 6.1.1-3ubuntu5 Copyright (c) 2000-2023 the FFmpeg developers\n",
      "  built with gcc 13 (Ubuntu 13.2.0-23ubuntu3)\n",
      "  configuration: --prefix=/usr --extra-version=3ubuntu5 --toolchain=hardened --libdir=/usr/lib/x86_64-linux-gnu --incdir=/usr/include/x86_64-linux-gnu --arch=amd64 --enable-gpl --disable-stripping --disable-omx --enable-gnutls --enable-libaom --enable-libass --enable-libbs2b --enable-libcaca --enable-libcdio --enable-libcodec2 --enable-libdav1d --enable-libflite --enable-libfontconfig --enable-libfreetype --enable-libfribidi --enable-libglslang --enable-libgme --enable-libgsm --enable-libharfbuzz --enable-libmp3lame --enable-libmysofa --enable-libopenjpeg --enable-libopenmpt --enable-libopus --enable-librubberband --enable-libshine --enable-libsnappy --enable-libsoxr --enable-libspeex --enable-libtheora --enable-libtwolame --enable-libvidstab --enable-libvorbis --enable-libvpx --enable-libwebp --enable-libx265 --enable-libxml2 --enable-libxvid --enable-libzimg --enable-openal --enable-opencl --enable-opengl --disable-sndio --enable-libvpl --disable-libmfx --enable-libdc1394 --enable-libdrm --enable-libiec61883 --enable-chromaprint --enable-frei0r --enable-ladspa --enable-libbluray --enable-libjack --enable-libpulse --enable-librabbitmq --enable-librist --enable-libsrt --enable-libssh --enable-libsvtav1 --enable-libx264 --enable-libzmq --enable-libzvbi --enable-lv2 --enable-sdl2 --enable-libplacebo --enable-librav1e --enable-pocketsphinx --enable-librsvg --enable-libjxl --enable-shared\n",
      "  libavutil      58. 29.100 / 58. 29.100\n",
      "  libavcodec     60. 31.102 / 60. 31.102\n",
      "  libavformat    60. 16.100 / 60. 16.100\n",
      "  libavdevice    60.  3.100 / 60.  3.100\n",
      "  libavfilter     9. 12.100 /  9. 12.100\n",
      "  libswscale      7.  5.100 /  7.  5.100\n",
      "  libswresample   4. 12.100 /  4. 12.100\n",
      "  libpostproc    57.  3.100 / 57.  3.100\n",
      "Input #0, mov,mp4,m4a,3gp,3g2,mj2, from '/home/elton/Projetos/Translater_Video/teste/1 - Preparations.mp4':\n",
      "  Metadata:\n",
      "    major_brand     : isom\n",
      "    minor_version   : 512\n",
      "    compatible_brands: isomiso2avc1mp41\n",
      "    date            : 2024-09-10T10:54:04.8243046-05:00\n",
      "    encoder         : Lavf59.27.100\n",
      "  Duration: 00:03:15.54, start: 0.000000, bitrate: 1669 kb/s\n",
      "  Stream #0:0[0x1](und): Video: h264 (Main) (avc1 / 0x31637661), yuv420p(tv, bt709, progressive), 1920x1080 [SAR 1:1 DAR 16:9], 1602 kb/s, 30 fps, 30 tbr, 90k tbn (default)\n",
      "    Metadata:\n",
      "      handler_name    : VideoHandler\n",
      "      vendor_id       : [0][0][0][0]\n",
      "  Stream #0:1[0x2](und): Audio: aac (HE-AAC) (mp4a / 0x6134706D), 48000 Hz, stereo, fltp, 62 kb/s (default)\n",
      "    Metadata:\n",
      "      handler_name    : SoundHandler\n",
      "      vendor_id       : [0][0][0][0]\n",
      "[aist#1:0/pcm_s16le @ 0x55fe877a06c0] Guessed Channel Layout: mono\n",
      "Input #1, wav, from '/home/elton/Projetos/Translater_Video/teste/resultado_teste/audios/gerados/resultado.wav':\n",
      "  Duration: 00:03:06.11, bitrate: 384 kb/s\n",
      "  Stream #1:0: Audio: pcm_s16le ([1][0][0][0] / 0x0001), 24000 Hz, 1 channels, s16, 384 kb/s\n",
      "Stream mapping:\n",
      "  Stream #0:0 -> #0:0 (copy)\n",
      "  Stream #1:0 -> #0:1 (pcm_s16le (native) -> aac (native))\n",
      "Press [q] to stop, [?] for help\n",
      "Output #0, mp4, to '/home/elton/Projetos/Translater_Video/teste/resultado.mp4':\n",
      "  Metadata:\n",
      "    major_brand     : isom\n",
      "    minor_version   : 512\n",
      "    compatible_brands: isomiso2avc1mp41\n",
      "    date            : 2024-09-10T10:54:04.8243046-05:00\n",
      "    encoder         : Lavf60.16.100\n",
      "  Stream #0:0(und): Video: h264 (Main) (avc1 / 0x31637661), yuv420p(tv, bt709, progressive), 1920x1080 [SAR 1:1 DAR 16:9], q=2-31, 1602 kb/s, 30 fps, 30 tbr, 90k tbn (default)\n",
      "    Metadata:\n",
      "      handler_name    : VideoHandler\n",
      "      vendor_id       : [0][0][0][0]\n",
      "  Stream #0:1: Audio: aac (LC) (mp4a / 0x6134706D), 24000 Hz, mono, fltp, 69 kb/s\n",
      "    Metadata:\n",
      "      encoder         : Lavc60.31.102 aac\n",
      "[out#0/mp4 @ 0x55fe87798d00] video:38209kB audio:1573kB subtitle:0kB other streams:0kB global headers:0kB muxing overhead: 0.375301%\n",
      "size=   39932kB time=00:03:15.37 bitrate=1674.3kbits/s speed=66.7x    \n",
      "[aac @ 0x55fe878533c0] Qavg: 7813.182\n"
     ]
    }
   ],
   "source": [
    "inserte_audio(path_video, path_video, log[0]['audio_concatenado'],name_video, \"resultado.mp4\")"
   ]
  },
  {
   "cell_type": "code",
   "execution_count": 19,
   "id": "7c68395e",
   "metadata": {},
   "outputs": [
    {
     "data": {
      "text/plain": [
       "'/home/elton/Projetos/Translater_Video/teste/resultado_teste/audios/gerados/resultado.wav'"
      ]
     },
     "execution_count": 19,
     "metadata": {},
     "output_type": "execute_result"
    }
   ],
   "source": [
    "log[0]['audio_concatenado']"
   ]
  }
 ],
 "metadata": {
  "kernelspec": {
   "display_name": "Kernel_Translater_Video",
   "language": "python",
   "name": "kernel_translater_video"
  },
  "language_info": {
   "codemirror_mode": {
    "name": "ipython",
    "version": 3
   },
   "file_extension": ".py",
   "mimetype": "text/x-python",
   "name": "python",
   "nbconvert_exporter": "python",
   "pygments_lexer": "ipython3",
   "version": "3.10.17"
  }
 },
 "nbformat": 4,
 "nbformat_minor": 5
}
