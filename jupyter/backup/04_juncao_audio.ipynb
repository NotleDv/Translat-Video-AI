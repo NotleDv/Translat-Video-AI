{
 "cells": [
  {
   "cell_type": "code",
   "execution_count": 8,
   "id": "e64b1b78",
   "metadata": {},
   "outputs": [],
   "source": [
    "import os\n",
    "import shutil\n",
    "import magic\n",
    "import mimetypes\n",
    "mime = magic.Magic(mime=True)"
   ]
  },
  {
   "cell_type": "code",
   "execution_count": 9,
   "id": "b7c3c1ce",
   "metadata": {},
   "outputs": [
    {
     "data": {
      "text/plain": [
       "'/home/elton/Projetos/Translater_Video/jupyter'"
      ]
     },
     "execution_count": 9,
     "metadata": {},
     "output_type": "execute_result"
    }
   ],
   "source": [
    "dirs_base = os.getcwd()\n",
    "dirs_base"
   ]
  },
  {
   "cell_type": "code",
   "execution_count": 10,
   "id": "2863934f",
   "metadata": {},
   "outputs": [],
   "source": [
    "list_audio = []"
   ]
  },
  {
   "cell_type": "code",
   "execution_count": 11,
   "id": "53cc0256",
   "metadata": {},
   "outputs": [
    {
     "name": "stdout",
     "output_type": "stream",
     "text": [
      "\n",
      "a_2.wav\n",
      "\n",
      "a_0.wav\n",
      "\n",
      "a_1.wav\n"
     ]
    }
   ],
   "source": [
    "for root, dirs, files in os.walk(dirs_base+'/temp'):\n",
    "    for files_ in files:\n",
    "        extensao = mimetypes.guess_all_extensions(mime.from_file(root+f'/{files_}'))\n",
    "        for a in extensao:\n",
    "            if a == '.wav':\n",
    "                print()\n",
    "                print(files_)\n",
    "                list_audio.append({'root': f'{root}/{files_}',\n",
    "                                   'index': files_[2:-4]})"
   ]
  },
  {
   "cell_type": "code",
   "execution_count": 12,
   "id": "65c6de22",
   "metadata": {},
   "outputs": [
    {
     "data": {
      "text/plain": [
       "[{'root': '/home/elton/Projetos/Translater_Video/jupyter/temp/a_2.wav',\n",
       "  'index': '2'},\n",
       " {'root': '/home/elton/Projetos/Translater_Video/jupyter/temp/a_0.wav',\n",
       "  'index': '0'},\n",
       " {'root': '/home/elton/Projetos/Translater_Video/jupyter/temp/a_1.wav',\n",
       "  'index': '1'}]"
      ]
     },
     "execution_count": 12,
     "metadata": {},
     "output_type": "execute_result"
    }
   ],
   "source": [
    "list_audio"
   ]
  },
  {
   "cell_type": "code",
   "execution_count": 13,
   "id": "977c7b77",
   "metadata": {},
   "outputs": [],
   "source": [
    "list_audio = sorted(list_audio, key=lambda i: int(i['index']))"
   ]
  },
  {
   "cell_type": "code",
   "execution_count": 14,
   "id": "ab87ba7e",
   "metadata": {},
   "outputs": [
    {
     "data": {
      "text/plain": [
       "[{'root': '/home/elton/Projetos/Translater_Video/jupyter/temp/a_0.wav',\n",
       "  'index': '0'},\n",
       " {'root': '/home/elton/Projetos/Translater_Video/jupyter/temp/a_1.wav',\n",
       "  'index': '1'},\n",
       " {'root': '/home/elton/Projetos/Translater_Video/jupyter/temp/a_2.wav',\n",
       "  'index': '2'}]"
      ]
     },
     "execution_count": 14,
     "metadata": {},
     "output_type": "execute_result"
    }
   ],
   "source": [
    "list_audio"
   ]
  },
  {
   "cell_type": "code",
   "execution_count": 15,
   "id": "be00f3c8",
   "metadata": {},
   "outputs": [],
   "source": [
    "import ffmpeg\n",
    "import imageio_ffmpeg\n",
    "from moviepy import AudioFileClip, concatenate_audioclips, VideoFileClip"
   ]
  },
  {
   "cell_type": "code",
   "execution_count": 16,
   "id": "f071083d",
   "metadata": {},
   "outputs": [],
   "source": [
    "name_video = \"Qual é a coisa MAIS RADIOATIVA do UNIVERSO.mp4\"\n",
    "path_video = \"/home/elton/Projetos/Translater_Video/teste\"+f'/{name_video}'"
   ]
  },
  {
   "cell_type": "code",
   "execution_count": 17,
   "id": "e1909409",
   "metadata": {},
   "outputs": [
    {
     "name": "stdout",
     "output_type": "stream",
     "text": [
      "0\n",
      "1\n",
      "2\n"
     ]
    }
   ],
   "source": [
    "for i in list_audio:\n",
    "    print(i['index'])"
   ]
  },
  {
   "cell_type": "code",
   "execution_count": 18,
   "id": "545f2f42",
   "metadata": {},
   "outputs": [
    {
     "data": {
      "text/plain": [
       "'/home/elton/Projetos/Translater_Video/jupyter/temp'"
      ]
     },
     "execution_count": 18,
     "metadata": {},
     "output_type": "execute_result"
    }
   ],
   "source": [
    "import os\n",
    "a = os.getcwd()\n",
    "a = os.path.join(a, 'temp')\n",
    "a"
   ]
  },
  {
   "cell_type": "code",
   "execution_count": 19,
   "id": "5c0ef212",
   "metadata": {},
   "outputs": [],
   "source": [
    "def concatenar_audios(path_temp:str, path_audio:list, path_out:str):\n",
    "    audios = [AudioFileClip(i['root']) for i in path_audio]\n",
    "    conjunto_audio = concatenate_audioclips(audios)\n",
    "    \n",
    "    conjunto_audio.write_audiofile(path_out)    \n",
    "    \n",
    "    for i in audios:\n",
    "        i.close()\n",
    "    \n",
    "    path_audio = os.path.join(path_temp, 'resultado.wav')\n",
    "    return path_audio"
   ]
  },
  {
   "cell_type": "code",
   "execution_count": 24,
   "id": "015b5032",
   "metadata": {},
   "outputs": [],
   "source": [
    "def inserte_audio (path_temp: str, path_video:str, path_audio:list, path_out:str):\n",
    "    a = os.path.join(path_temp, \"resultado.wav\")\n",
    "    path_result_audio = concatenar_audios(path_temp, path_audio, a)\n",
    "    print('aff', path_result_audio)\n",
    "    \n",
    "    video = ffmpeg.input(path_video)\n",
    "    audio = ffmpeg.input(path_result_audio)\n",
    "    \n",
    "    ffmpeg.output(video.video, audio.audio, path_out, vcodec='copy', acodec='aac').run()\n",
    "    \n",
    "    "
   ]
  },
  {
   "cell_type": "code",
   "execution_count": 25,
   "id": "cf0d4048",
   "metadata": {},
   "outputs": [
    {
     "name": "stdout",
     "output_type": "stream",
     "text": [
      "MoviePy - Writing audio in /home/elton/Projetos/Translater_Video/jupyter/temp/resultado.wav\n"
     ]
    },
    {
     "name": "stderr",
     "output_type": "stream",
     "text": [
      "ffmpeg version 6.1.1-3ubuntu5 Copyright (c) 2000-2023 the FFmpeg developers\n",
      "  built with gcc 13 (Ubuntu 13.2.0-23ubuntu3)\n",
      "  configuration: --prefix=/usr --extra-version=3ubuntu5 --toolchain=hardened --libdir=/usr/lib/x86_64-linux-gnu --incdir=/usr/include/x86_64-linux-gnu --arch=amd64 --enable-gpl --disable-stripping --disable-omx --enable-gnutls --enable-libaom --enable-libass --enable-libbs2b --enable-libcaca --enable-libcdio --enable-libcodec2 --enable-libdav1d --enable-libflite --enable-libfontconfig --enable-libfreetype --enable-libfribidi --enable-libglslang --enable-libgme --enable-libgsm --enable-libharfbuzz --enable-libmp3lame --enable-libmysofa --enable-libopenjpeg --enable-libopenmpt --enable-libopus --enable-librubberband --enable-libshine --enable-libsnappy --enable-libsoxr --enable-libspeex --enable-libtheora --enable-libtwolame --enable-libvidstab --enable-libvorbis --enable-libvpx --enable-libwebp --enable-libx265 --enable-libxml2 --enable-libxvid --enable-libzimg --enable-openal --enable-opencl --enable-opengl --disable-sndio --enable-libvpl --disable-libmfx --enable-libdc1394 --enable-libdrm --enable-libiec61883 --enable-chromaprint --enable-frei0r --enable-ladspa --enable-libbluray --enable-libjack --enable-libpulse --enable-librabbitmq --enable-librist --enable-libsrt --enable-libssh --enable-libsvtav1 --enable-libx264 --enable-libzmq --enable-libzvbi --enable-lv2 --enable-sdl2 --enable-libplacebo --enable-librav1e --enable-pocketsphinx --enable-librsvg --enable-libjxl --enable-shared\n",
      "  libavutil      58. 29.100 / 58. 29.100\n",
      "  libavcodec     60. 31.102 / 60. 31.102\n",
      "  libavformat    60. 16.100 / 60. 16.100\n",
      "  libavdevice    60.  3.100 / 60.  3.100\n",
      "  libavfilter     9. 12.100 /  9. 12.100\n",
      "  libswscale      7.  5.100 /  7.  5.100\n",
      "  libswresample   4. 12.100 /  4. 12.100\n",
      "  libpostproc    57.  3.100 / 57.  3.100\n",
      "Input #0, mov,mp4,m4a,3gp,3g2,mj2, from '/home/elton/Projetos/Translater_Video/teste/Qual é a coisa MAIS RADIOATIVA do UNIVERSO.mp4':\n",
      "  Metadata:\n",
      "    major_brand     : mp42\n",
      "    minor_version   : 0\n",
      "    compatible_brands: mp42mp41\n",
      "    creation_time   : 2025-08-08T19:53:49.000000Z\n",
      "  Duration: 00:00:59.93, start: 0.000000, bitrate: 10332 kb/s\n",
      "  Stream #0:0[0x2](eng): Audio: aac (LC) (mp4a / 0x6134706D), 48000 Hz, stereo, fltp, 317 kb/s (default)\n",
      "    Metadata:\n",
      "      creation_time   : 2025-08-08T19:53:51.000000Z\n",
      "      handler_name    : #Mainconcept MP4 Sound Media Handler\n",
      "      vendor_id       : [0][0][0][0]\n",
      "  Stream #0:1[0x1](eng): Video: h264 (Main) (avc1 / 0x31637661), yuv420p(tv, bt709, progressive), 1920x1080, 10006 kb/s, 30 fps, 30 tbr, 30k tbn (default)\n",
      "    Metadata:\n",
      "      creation_time   : 2025-08-08T19:53:52.000000Z\n",
      "      handler_name    : ?Mainconcept Video Media Handler\n",
      "      vendor_id       : [0][0][0][0]\n",
      "      encoder         : AVC Coding\n",
      "[aist#1:0/pcm_s16le @ 0x55c39913af00] Guessed Channel Layout: stereo\n",
      "Input #1, wav, from '/home/elton/Projetos/Translater_Video/jupyter/temp/resultado.wav':\n",
      "  Metadata:\n",
      "    encoder         : Lavf61.1.100\n",
      "  Duration: 00:01:12.51, bitrate: 1411 kb/s\n",
      "  Stream #1:0: Audio: pcm_s16le ([1][0][0][0] / 0x0001), 44100 Hz, 2 channels, s16, 1411 kb/s\n",
      "Stream mapping:\n",
      "  Stream #0:1 -> #0:0 (copy)\n",
      "  Stream #1:0 -> #0:1 (pcm_s16le (native) -> aac (native))\n",
      "Press [q] to stop, [?] for help\n",
      "Output #0, mp4, to 'resultado.mp4':\n",
      "  Metadata:\n",
      "    major_brand     : mp42\n",
      "    minor_version   : 0\n",
      "    compatible_brands: mp42mp41\n",
      "    encoder         : Lavf60.16.100\n",
      "  Stream #0:0(eng): Video: h264 (Main) (avc1 / 0x31637661), yuv420p(tv, bt709, progressive), 1920x1080, q=2-31, 10006 kb/s, 30 fps, 30 tbr, 30k tbn (default)\n",
      "    Metadata:\n",
      "      creation_time   : 2025-08-08T19:53:52.000000Z\n",
      "      handler_name    : ?Mainconcept Video Media Handler\n",
      "      vendor_id       : [0][0][0][0]\n",
      "      encoder         : AVC Coding\n",
      "  Stream #0:1: Audio: aac (LC) (mp4a / 0x6134706D), 44100 Hz, stereo, fltp, 128 kb/s\n",
      "    Metadata:\n",
      "      encoder         : Lavc60.31.102 aac\n",
      "size=       0kB time=N/A bitrate=N/A speed=N/A    \r"
     ]
    },
    {
     "name": "stdout",
     "output_type": "stream",
     "text": [
      "MoviePy - Done.\n",
      "aff /home/elton/Projetos/Translater_Video/jupyter/temp/resultado.wav\n"
     ]
    },
    {
     "name": "stderr",
     "output_type": "stream",
     "text": [
      "[out#0/mp4 @ 0x55c3991272c0] video:73211kB audio:1118kB subtitle:0kB other streams:0kB global headers:0kB muxing overhead: 0.082265%\n",
      "size=   74390kB time=00:01:12.49 bitrate=8406.4kbits/s speed=26.7x    \n",
      "[aac @ 0x55c3993253c0] Qavg: 1628.665\n"
     ]
    }
   ],
   "source": [
    "inserte_audio(a, path_video, list_audio,\"resultado.mp4\")"
   ]
  }
 ],
 "metadata": {
  "kernelspec": {
   "display_name": "lab_kernel",
   "language": "python",
   "name": "lab_kernel"
  },
  "language_info": {
   "codemirror_mode": {
    "name": "ipython",
    "version": 3
   },
   "file_extension": ".py",
   "mimetype": "text/x-python",
   "name": "python",
   "nbconvert_exporter": "python",
   "pygments_lexer": "ipython3",
   "version": "3.10.17"
  }
 },
 "nbformat": 4,
 "nbformat_minor": 5
}
