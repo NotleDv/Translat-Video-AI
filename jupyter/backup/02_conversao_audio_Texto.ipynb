{
 "cells": [
  {
   "cell_type": "code",
   "execution_count": 1,
   "id": "2155a31b",
   "metadata": {},
   "outputs": [],
   "source": [
    "import whisper\n",
    "import os\n",
    "import json"
   ]
  },
  {
   "cell_type": "code",
   "execution_count": 2,
   "id": "9ff24a26",
   "metadata": {},
   "outputs": [],
   "source": [
    "nome_audio = \"1 - Preparations\"\n",
    "path_audio = os.path.join('/home/elton/Projetos/Translater_Video/teste/resultado_teste/', (nome_audio +'.aac'))"
   ]
  },
  {
   "cell_type": "code",
   "execution_count": 3,
   "id": "d7e54702",
   "metadata": {},
   "outputs": [],
   "source": [
    "## Diretório TEMP para guarda a transcrição\n",
    "path_temp = os.getcwd()\n",
    "path_temp = os.path.join(path_temp, 'temp')"
   ]
  },
  {
   "cell_type": "code",
   "execution_count": 4,
   "id": "8bcba61e",
   "metadata": {},
   "outputs": [],
   "source": [
    "def conversao_audio_texto (path, paht_a):\n",
    "    \n",
    "    #Criando Pasta Temp\n",
    "    if not os.path.exists(path_a):\n",
    "        print(\"Criando Pasta Temp!\")\n",
    "        os.mkdir(path_a)\n",
    "    \n",
    "    #Carregando modelo\n",
    "    model = whisper.load_model(\"large\");\n",
    "    #Realizando a transcrição\n",
    "    result = model.transcribe(path)\n",
    "    \n",
    "    if result['text']:\n",
    "        with open(f\"{os.path.join(path_a, nome_audio)}.txt\", \"w\", encoding='utf-8') as f:\n",
    "            f.write(json.dumps(result, ensure_ascii=False, indent=2))\n",
    "            \n",
    "    else:\n",
    "        print('Erro na transcrição')"
   ]
  },
  {
   "cell_type": "code",
   "execution_count": 5,
   "id": "488d0bdb",
   "metadata": {},
   "outputs": [],
   "source": [
    "path_a = \"/home/elton/Projetos/Translater_Video/teste/resultado_teste/\""
   ]
  },
  {
   "cell_type": "code",
   "execution_count": 6,
   "id": "7f8efbf7",
   "metadata": {},
   "outputs": [],
   "source": [
    "conversao_audio_texto(path_audio, path_a)"
   ]
  }
 ],
 "metadata": {
  "kernelspec": {
   "display_name": "lab_kernel",
   "language": "python",
   "name": "lab_kernel"
  },
  "language_info": {
   "codemirror_mode": {
    "name": "ipython",
    "version": 3
   },
   "file_extension": ".py",
   "mimetype": "text/x-python",
   "name": "python",
   "nbconvert_exporter": "python",
   "pygments_lexer": "ipython3",
   "version": "3.10.17"
  }
 },
 "nbformat": 4,
 "nbformat_minor": 5
}
