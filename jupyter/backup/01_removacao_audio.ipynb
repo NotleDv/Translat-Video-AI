{
 "cells": [
  {
   "cell_type": "code",
   "execution_count": 1,
   "id": "45b0dc20",
   "metadata": {},
   "outputs": [],
   "source": [
    "import ffmpeg\n",
    "import imageio_ffmpeg"
   ]
  },
  {
   "cell_type": "code",
   "execution_count": 2,
   "id": "0bd7d70e",
   "metadata": {},
   "outputs": [],
   "source": [
    "import subprocess, os, sys"
   ]
  },
  {
   "cell_type": "code",
   "execution_count": 4,
   "id": "e74cef0b",
   "metadata": {},
   "outputs": [],
   "source": [
    "path_video = \"/home/elton/Projetos/Translater_Video/teste\""
   ]
  },
  {
   "cell_type": "code",
   "execution_count": 5,
   "id": "e6c414cd",
   "metadata": {},
   "outputs": [],
   "source": [
    "name_video = \"1 - Preparations.mp4\"\n",
    "name_video_out = \"1 - Preparations.aac\""
   ]
  },
  {
   "cell_type": "code",
   "execution_count": 6,
   "id": "6570303d",
   "metadata": {},
   "outputs": [],
   "source": [
    "path_out = \"/home/elton/Projetos/Translater_Video/teste/resultado_teste\""
   ]
  },
  {
   "cell_type": "code",
   "execution_count": 7,
   "id": "a79f5610",
   "metadata": {},
   "outputs": [],
   "source": [
    "def extrair_audio(path_in, path_out, name_video, name_video_out):\n",
    "    input_ = os.path.join(path_in, name_video)\n",
    "    output_ = os.path.join(path_out, name_video_out)\n",
    "    path_ffmpeg = imageio_ffmpeg.get_ffmpeg_exe()\n",
    "\n",
    "    # --- Extração de áudio (descomentando quando quiser usar) ---\n",
    "    try:\n",
    "        (\n",
    "            ffmpeg\n",
    "            .input(input_)\n",
    "            .output(output_, vn=None, acodec='copy')\n",
    "            .run(cmd=path_ffmpeg, overwrite_output=True)\n",
    "        )\n",
    "        print(f'Extração de áudio concluída: {output_}')\n",
    "    except ffmpeg.Error as erro:\n",
    "        print(erro)"
   ]
  },
  {
   "cell_type": "code",
   "execution_count": 8,
   "id": "7c668f54",
   "metadata": {},
   "outputs": [
    {
     "name": "stdout",
     "output_type": "stream",
     "text": [
      "Extração de áudio concluída: /home/elton/Projetos/Translater_Video/teste/resultado_teste/1 - Preparations.aac\n"
     ]
    },
    {
     "name": "stderr",
     "output_type": "stream",
     "text": [
      "ffmpeg version 7.0.2-static https://johnvansickle.com/ffmpeg/  Copyright (c) 2000-2024 the FFmpeg developers\n",
      "  built with gcc 8 (Debian 8.3.0-6)\n",
      "  configuration: --enable-gpl --enable-version3 --enable-static --disable-debug --disable-ffplay --disable-indev=sndio --disable-outdev=sndio --cc=gcc --enable-fontconfig --enable-frei0r --enable-gnutls --enable-gmp --enable-libgme --enable-gray --enable-libaom --enable-libfribidi --enable-libass --enable-libvmaf --enable-libfreetype --enable-libmp3lame --enable-libopencore-amrnb --enable-libopencore-amrwb --enable-libopenjpeg --enable-librubberband --enable-libsoxr --enable-libspeex --enable-libsrt --enable-libvorbis --enable-libopus --enable-libtheora --enable-libvidstab --enable-libvo-amrwbenc --enable-libvpx --enable-libwebp --enable-libx264 --enable-libx265 --enable-libxml2 --enable-libdav1d --enable-libxvid --enable-libzvbi --enable-libzimg\n",
      "  libavutil      59.  8.100 / 59.  8.100\n",
      "  libavcodec     61.  3.100 / 61.  3.100\n",
      "  libavformat    61.  1.100 / 61.  1.100\n",
      "  libavdevice    61.  1.100 / 61.  1.100\n",
      "  libavfilter    10.  1.100 / 10.  1.100\n",
      "  libswscale      8.  1.100 /  8.  1.100\n",
      "  libswresample   5.  1.100 /  5.  1.100\n",
      "  libpostproc    58.  1.100 / 58.  1.100\n",
      "Input #0, mov,mp4,m4a,3gp,3g2,mj2, from '/home/elton/Projetos/Translater_Video/teste/1 - Preparations.mp4':\n",
      "  Metadata:\n",
      "    major_brand     : isom\n",
      "    minor_version   : 512\n",
      "    compatible_brands: isomiso2avc1mp41\n",
      "    date            : 2024-09-10T10:54:04.8243046-05:00\n",
      "    encoder         : Lavf59.27.100\n",
      "  Duration: 00:03:15.54, start: 0.000000, bitrate: 1669 kb/s\n",
      "  Stream #0:0[0x1](und): Video: h264 (Main) (avc1 / 0x31637661), yuv420p(tv, bt709, progressive), 1920x1080 [SAR 1:1 DAR 16:9], 1602 kb/s, 30 fps, 30 tbr, 90k tbn (default)\n",
      "      Metadata:\n",
      "        handler_name    : VideoHandler\n",
      "        vendor_id       : [0][0][0][0]\n",
      "  Stream #0:1[0x2](und): Audio: aac (HE-AAC) (mp4a / 0x6134706D), 48000 Hz, stereo, fltp, 62 kb/s (default)\n",
      "      Metadata:\n",
      "        handler_name    : SoundHandler\n",
      "        vendor_id       : [0][0][0][0]\n",
      "Stream mapping:\n",
      "  Stream #0:1 -> #0:0 (copy)\n",
      "Output #0, adts, to '/home/elton/Projetos/Translater_Video/teste/resultado_teste/1 - Preparations.aac':\n",
      "  Metadata:\n",
      "    major_brand     : isom\n",
      "    minor_version   : 512\n",
      "    compatible_brands: isomiso2avc1mp41\n",
      "    date            : 2024-09-10T10:54:04.8243046-05:00\n",
      "    encoder         : Lavf61.1.100\n",
      "  Stream #0:0(und): Audio: aac (HE-AAC) (mp4a / 0x6134706D), 48000 Hz, stereo, fltp, 62 kb/s (default)\n",
      "      Metadata:\n",
      "        handler_name    : SoundHandler\n",
      "        vendor_id       : [0][0][0][0]\n",
      "Press [q] to stop, [?] for help\n",
      "[out#0/adts @ 0xc043440] video:0KiB audio:1496KiB subtitle:0KiB other streams:0KiB global headers:0KiB muxing overhead: 2.093718%\n",
      "size=    1528KiB time=00:03:15.54 bitrate=  64.0kbits/s speed=1.36e+03x    \n"
     ]
    }
   ],
   "source": [
    "extrair_audio(path_video, path_out, name_video, name_video_out)"
   ]
  }
 ],
 "metadata": {
  "kernelspec": {
   "display_name": "lab_kernel",
   "language": "python",
   "name": "lab_kernel"
  },
  "language_info": {
   "codemirror_mode": {
    "name": "ipython",
    "version": 3
   },
   "file_extension": ".py",
   "mimetype": "text/x-python",
   "name": "python",
   "nbconvert_exporter": "python",
   "pygments_lexer": "ipython3",
   "version": "3.10.17"
  }
 },
 "nbformat": 4,
 "nbformat_minor": 5
}
