{
 "cells": [
  {
   "cell_type": "code",
   "execution_count": 1,
   "id": "1a921252",
   "metadata": {},
   "outputs": [
    {
     "name": "stdout",
     "output_type": "stream",
     "text": [
      "GPU 0: NVIDIA GeForce RTX 2060, Memória: 12.88 GB\n",
      "GPU 1: NVIDIA GeForce GTX 1660 SUPER, Memória: 6.44 GB\n"
     ]
    }
   ],
   "source": [
    "import torch\n",
    "\n",
    "n = torch.cuda.device_count()\n",
    "if n == 0:\n",
    "    print(\"Nenhuma GPU disponível.\")\n",
    "else:\n",
    "    for i in range(n):\n",
    "        prop = torch.cuda.get_device_properties(i)\n",
    "        print(f\"GPU {i}: {prop.name}, Memória: {prop.total_memory / 1e9:.2f} GB\")\n",
    "\n",
    "        gpu = 0\n",
    "        device_ = torch.device(f\"cuda:{gpu}\")\n",
    "    \n"
   ]
  },
  {
   "cell_type": "code",
   "execution_count": 2,
   "id": "e4108aa4",
   "metadata": {},
   "outputs": [
    {
     "name": "stderr",
     "output_type": "stream",
     "text": [
      "/home/elton/kernel/kernel_lab/.venv/lib/python3.10/site-packages/perth/perth_net/__init__.py:1: UserWarning: pkg_resources is deprecated as an API. See https://setuptools.pypa.io/en/latest/pkg_resources.html. The pkg_resources package is slated for removal as early as 2025-11-30. Refrain from using this package or pin to Setuptools<81.\n",
      "  from pkg_resources import resource_filename\n",
      "/home/elton/kernel/kernel_lab/.venv/lib/python3.10/site-packages/tqdm/auto.py:21: TqdmWarning: IProgress not found. Please update jupyter and ipywidgets. See https://ipywidgets.readthedocs.io/en/stable/user_install.html\n",
      "  from .autonotebook import tqdm as notebook_tqdm\n"
     ]
    }
   ],
   "source": [
    "import os\n",
    "\n",
    "import torchaudio as ta\n",
    "from chatterbox.tts import ChatterboxTTS"
   ]
  },
  {
   "cell_type": "code",
   "execution_count": 3,
   "id": "8a696472",
   "metadata": {},
   "outputs": [
    {
     "name": "stderr",
     "output_type": "stream",
     "text": [
      "/home/elton/kernel/kernel_lab/.venv/lib/python3.10/site-packages/diffusers/models/lora.py:393: FutureWarning: `LoRACompatibleLinear` is deprecated and will be removed in version 1.0.0. Use of `LoRACompatibleLinear` is deprecated. Please switch to PEFT backend by installing PEFT: `pip install peft`.\n",
      "  deprecate(\"LoRACompatibleLinear\", \"1.0.0\", deprecation_message)\n"
     ]
    },
    {
     "name": "stdout",
     "output_type": "stream",
     "text": [
      "loaded PerthNet (Implicit) at step 250,000\n"
     ]
    }
   ],
   "source": [
    "torch.cuda.empty_cache()\n",
    "model = ChatterboxTTS.from_pretrained(device=device_)"
   ]
  },
  {
   "cell_type": "code",
   "execution_count": 6,
   "id": "222fa300",
   "metadata": {},
   "outputs": [],
   "source": [
    "path_texto = '/home/elton/Projetos/Translater_Video/jupyter/temp/resultado_teste.txt'\n",
    "texto = \"\"\n",
    "\n",
    "AUDIO_PROMPT_PATH = \"/home/elton/Projetos/Translater_Video/audio_prompt/base_audio.wav\"\n",
    "\n",
    "with open(path_texto, 'r', encoding='utf-8') as f:\n",
    "    texto = f.read()"
   ]
  },
  {
   "cell_type": "code",
   "execution_count": 7,
   "id": "90f814fd",
   "metadata": {},
   "outputs": [
    {
     "name": "stderr",
     "output_type": "stream",
     "text": [
      "/usr/lib/python3.10/contextlib.py:103: FutureWarning: `torch.backends.cuda.sdp_kernel()` is deprecated. In the future, this context manager will be removed. Please see `torch.nn.attention.sdpa_kernel()` for the new context manager, with updated signature.\n",
      "  self.gen = func(*args, **kwds)\n",
      "LlamaModel is using LlamaSdpaAttention, but `torch.nn.functional.scaled_dot_product_attention` does not support `output_attentions=True`. Falling back to the manual attention implementation, but specifying the manual implementation will be required from Transformers version v5.0.0 onwards. This warning can be removed using the argument `attn_implementation=\"eager\"` when loading the model.\n",
      "Sampling:   0%|          | 0/1000 [00:00<?, ?it/s]We detected that you are passing `past_key_values` as a tuple of tuples. This is deprecated and will be removed in v4.47. Please convert your cache or use an appropriate `Cache` class (https://huggingface.co/docs/transformers/kv_cache#legacy-cache-format)\n",
      "Sampling: 100%|██████████| 1000/1000 [00:45<00:00, 22.21it/s]\n"
     ]
    }
   ],
   "source": [
    "wav = model.generate(texto, audio_prompt_path=AUDIO_PROMPT_PATH)"
   ]
  },
  {
   "cell_type": "code",
   "execution_count": 8,
   "id": "ea0ead98",
   "metadata": {},
   "outputs": [],
   "source": [
    "path_temp = '/home/elton/Projetos/Translater_Video/jupyter/temp/'\n",
    "\n",
    "ta.save(os.path.join(path_temp, \"audio.wav\"), wav, model.sr)"
   ]
  }
 ],
 "metadata": {
  "kernelspec": {
   "display_name": "lab_kernel",
   "language": "python",
   "name": "lab_kernel"
  },
  "language_info": {
   "codemirror_mode": {
    "name": "ipython",
    "version": 3
   },
   "file_extension": ".py",
   "mimetype": "text/x-python",
   "name": "python",
   "nbconvert_exporter": "python",
   "pygments_lexer": "ipython3",
   "version": "3.10.17"
  }
 },
 "nbformat": 4,
 "nbformat_minor": 5
}
